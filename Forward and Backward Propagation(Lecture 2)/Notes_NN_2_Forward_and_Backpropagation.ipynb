{
  "nbformat": 4,
  "nbformat_minor": 0,
  "metadata": {
    "colab": {
      "provenance": [],
      "toc_visible": true
    },
    "kernelspec": {
      "name": "python3",
      "display_name": "Python 3"
    },
    "language_info": {
      "name": "python"
    }
  },
  "cells": [
    {
      "cell_type": "markdown",
      "source": [
        "## Content\n",
        "\n",
        "- **How to create a model that helps in multiclass classification**\n",
        "    - Notations\n",
        "\n",
        "- **Softmax classifier**\n",
        "\n",
        "\n",
        "- **How to train a NN?**\n",
        "    - Forward Prop\n",
        "\n",
        "- **Categorical Cross entropy**"
      ],
      "metadata": {
        "id": "1NR4gG6CN66w"
      }
    },
    {
      "cell_type": "markdown",
      "source": [
        "\n",
        "## How to create a model that helps in our multi-class classification?"
      ],
      "metadata": {
        "id": "2h55EujXBM6D"
      }
    },
    {
      "cell_type": "markdown",
      "source": [
        "Coming back to the problem at hand.\n",
        "\n",
        "> **Our data consists of 3 classes.**\n",
        "\n",
        "#### Question: Can we use simple logistic regression to classify 3 classes?\n",
        "\n",
        "No. We can only represent the simple Logitic Regression as a single-neuron model. i.e. predicting 2 classes.\n",
        "\n",
        "#### Question: How can we modify the existing network to account for multiclass classification ?\n",
        "\n",
        "Perhaps we can use multiple simple LogReg units (LRUs).\n",
        "\n",
        "A model formed by utilising multiple neurons is called a **Neural Network (NN)**."
      ],
      "metadata": {
        "id": "AG0r1deM1ok0"
      }
    },
    {
      "cell_type": "markdown",
      "source": [
        "\n",
        "\n",
        "### Q. How can we create a NN that helps in our multi class classification?\n",
        "\n",
        "Recall multi-class classification.\n",
        "- We calculated the probability that a given data point belongs to class A, B or C repectively.\n",
        "- Then, we returned the class with highest probability as the answer.\n",
        "\n",
        "\n"
      ],
      "metadata": {
        "id": "3kEgoAHX32G8"
      }
    },
    {
      "cell_type": "markdown",
      "source": [
        "**This gives us the intuition that perhaps, our output layer should have 3 outputs. One for each class.**\n",
        "\n",
        "So we can have a NN that looks like:-\n"
      ],
      "metadata": {
        "id": "5UtYJd20b0dO"
      }
    },
    {
      "cell_type": "markdown",
      "source": [
        "<center><img src='https://drive.google.com/uc?id=1eVlg-ET154yJuriN9ljV9F12wMf9ROds' width=\"700\"></center>\n",
        "\n"
      ],
      "metadata": {
        "id": "XArp3UMbdhgv"
      }
    },
    {
      "cell_type": "markdown",
      "source": [
        "Let's learn some notation to make our life easy."
      ],
      "metadata": {
        "id": "PkowDYSWnJJe"
      }
    },
    {
      "cell_type": "markdown",
      "source": [
        "### Notations\n",
        "\n"
      ],
      "metadata": {
        "id": "oMWsJqxbnRWf"
      }
    },
    {
      "cell_type": "markdown",
      "source": [
        "####  **Inputs**\n",
        " - We have two features for each datapoint: $x_{i1}$ and $x_{i2}$\n",
        "\n",
        "\n",
        "#### But we have m datapoints?\n",
        "\n",
        "#### Question: How did we represent m datapoints?\n",
        "\n",
        "Ans: As a matrix where each row represent a datapoint\n",
        "$\n",
        "\\begin{bmatrix}\n",
        "x_{11} & x_{12} \\\\\n",
        "x_{21} & x_{i2} \\\\\n",
        "...  & ...  \\\\\n",
        "x_{m1} & x_{m2}\n",
        "\\end{bmatrix}$"
      ],
      "metadata": {
        "id": "aqQ4M0Y3nSq2"
      }
    },
    {
      "cell_type": "markdown",
      "source": [
        "#### **Neuron**\n",
        "\n",
        "- Neuron is represented using $f_i$ where\n",
        "    - i refers to the neuron number\n",
        "\n",
        "For example: $f_1$ means 1st neuron"
      ],
      "metadata": {
        "id": "HzKCBb2SnW1r"
      }
    },
    {
      "cell_type": "markdown",
      "source": [
        "\n",
        "#### **Weights**\n",
        "\n",
        "- Weights are defined by notation: $w_{ij}$ where\n",
        "    - i is the source neuron\n",
        "    - j is the destination neuron\n",
        "\n",
        "Let's define the weight associated with input $x_{i1}$, going to neuron 2, $f_2$ (say) as: $w_{12}$\n",
        " - Similarly, we define other weights values as $w_{11}, w_{12}, w_{13}, w_{21}, w_{22}, w_{23}$\n",
        "\n",
        "\n"
      ],
      "metadata": {
        "id": "4GsSHuFxCXwG"
      }
    },
    {
      "cell_type": "markdown",
      "source": [
        "\n",
        "####  **Bias**\n",
        " - Each neuron will have a bias term associated with it ($b_i$): $b = \\begin{bmatrix}\n",
        "b_1 \\space\n",
        "b_2  \\space\n",
        "b_3\n",
        "\\end{bmatrix}$\n"
      ],
      "metadata": {
        "id": "nnAnu9ocpp-j"
      }
    },
    {
      "cell_type": "markdown",
      "source": [
        "\n",
        "#### **z value**\n",
        "$ $\n",
        "- z value represent the linear operation i.e additive multiplication of inputs with their respective weights\n",
        "    - $z_1 =w_{11}. x_{i1}  + w_{21}. x_{i2}$\n",
        "    - $z_2 =w_{12} .x_{i1}  + w_{22}.x_{i2}$\n",
        "    - $z_3 = w_{13} .x_{i1} + w_{23}.x_{i2}$\n",
        "  \n",
        "\n",
        "\n",
        "\n"
      ],
      "metadata": {
        "id": "a6RiVfMwsuIH"
      }
    },
    {
      "cell_type": "markdown",
      "source": [
        "#### **Output**\n",
        " - Each neuron will apply it's activation function on the z values to outputs: $a^1_1, a^1_2, a^1_3$\n"
      ],
      "metadata": {
        "id": "B4rnjMlOsvov"
      }
    },
    {
      "cell_type": "markdown",
      "source": [
        "<center><img src='https://drive.google.com/uc?id=1-f3HjcdZ_K4SeT3P8pr7Bp_zFjJixXXi' width=\"800\"></center>\n",
        "\n",
        "\n",
        "\n"
      ],
      "metadata": {
        "id": "MgX3tkxTuPYY"
      }
    },
    {
      "cell_type": "markdown",
      "metadata": {
        "id": "tHDSMRYB4n4z"
      },
      "source": [
        "\n",
        "#### Q. What is the problem with this formulation?\n",
        "\n",
        "#### What if the model predicts >0.5 for more than one of the classes?\n",
        "\n",
        "- Model will predict the presence of multiple classes in the output - [1, 1, 0], [1, 1, 1], [1, 0, 1]\n",
        "\n",
        "- Conclusion: **We want these probabilities values to sum to 1, as the we had in Logistic Regression (p and 1-p)**."
      ]
    },
    {
      "cell_type": "markdown",
      "source": [
        "<hr style=\"border:1px solid gray\"> </hr>\n",
        "\n",
        "## Softmax classifier\n"
      ],
      "metadata": {
        "id": "mNj_ccUMH_O0"
      }
    },
    {
      "cell_type": "markdown",
      "metadata": {
        "id": "nejBoCbZrEV2"
      },
      "source": [
        "\n",
        "#### What constraint do we want on your output probabilities ?\n",
        "\n",
        "Consider three outputs - $z_{1}$, $z_{2}$, $z_{3}$\n",
        "\n",
        "- We want a function that should map $z_{1}$, $z_{2}$, $z_{3}$ to output such that\n",
        "    - sum of output probabilities = 1\n",
        "\n",
        "#### How can we map the outputs of three neurons in the last layer such that they sum upto 1?\n",
        "- One such function is a **softmax function**\n",
        "\n",
        "where\n",
        "$$p_i = \\frac {e^{z_i}} {\\sum^k_{i =0} e^{z_i}}$$\n",
        "\n",
        "Here, $p_i$ refers to the prob. of datapoint belonging to class i\n",
        "- The denominator here is the normalisation term, to make $p_{1}+ p_{2}+ p_{3}= 1$\n",
        "\n",
        "<br>\n",
        "\n",
        "So, softmax can be thought of as sigmoid-like function for multiclass setting."
      ]
    },
    {
      "cell_type": "markdown",
      "source": [
        "\n",
        "####  Question: But why not directly use $\\frac{z_i}{\\sum^k_{i=0} {z_i}}$? Why to raise the $z$ to power of exponential?\n",
        "\n",
        "**Intuitive reason** - Ensures that values are **non-negative**, and lie only between 0 and 1.\n",
        "- as the value of $z_i$ ranges from -∞ to ∞\n",
        "\n",
        "<br>\n",
        "\n",
        "Besides this, softmax function has some other desirable properties\n",
        "1. Nice diferentiable $\\frac{de^x}{dx} = e^x$\n",
        "2. The output probabilities can be interpreted as log likelihoods (log odds)\n",
        "\n",
        "Lets redraw the flow for an input data-point belonging to class C\n",
        "\n",
        "![picture](https://drive.google.com/uc?export=view&id=12QEBrbkVaZiK-eXpGC9xI5xTNxjshk8U)\n",
        "\n",
        "\n",
        "If we were to just use normalized z values instead of exponential\n",
        "- the ratio of prob would be 1:3:6.\n",
        "\n",
        "- However, softmax pushes the probability of largest number closer to 1. Hence, the term soft-max\n",
        "\n",
        "\n",
        "\n",
        "So, we decide to keep **softmax** as the activation function in our NN."
      ],
      "metadata": {
        "id": "fh9DWlFm1-6o"
      }
    },
    {
      "cell_type": "markdown",
      "source": [
        "Softmax calculator: https://keisan.casio.com/exec/system/15168444286206"
      ],
      "metadata": {
        "id": "BiRHK40JouWh"
      }
    },
    {
      "cell_type": "markdown",
      "source": [
        "---\n",
        "\n",
        "We know we can train a simple Logistic Reg model using SGD and all, but\n",
        "\n",
        "## How to train a NN?\n",
        "\n",
        "\n",
        "\n",
        "Lets first define some variables"
      ],
      "metadata": {
        "id": "C5qfsj0dEwin"
      }
    },
    {
      "cell_type": "code",
      "source": [
        "# Separating feature and label columns\n",
        "X = df.iloc[:, :-1].to_numpy()\n",
        "y = df.iloc[:, -1].to_numpy()"
      ],
      "metadata": {
        "id": "kSW0wVIZGX-T"
      },
      "execution_count": null,
      "outputs": []
    },
    {
      "cell_type": "code",
      "source": [
        "d = X.shape[1] # 2 - dimensionality, number of features\n",
        "n = len(np.unique(y)) #3 - number of classes\n",
        "m = X.shape[0] # number of examples\n",
        "print(d, n, m)"
      ],
      "metadata": {
        "id": "ry6jA2XAMx2X",
        "colab": {
          "base_uri": "https://localhost:8080/"
        },
        "outputId": "de7c151d-8eb1-43c9-e5c3-1b34d4d035df"
      },
      "execution_count": null,
      "outputs": [
        {
          "output_type": "stream",
          "name": "stdout",
          "text": [
            "2 3 300\n"
          ]
        }
      ]
    },
    {
      "cell_type": "markdown",
      "metadata": {
        "id": "y6494vpurEV2"
      },
      "source": [
        "\n",
        "#### Question: How many coef parameters $W$ will this system (of three LR/neurons) will have?\n",
        "\n",
        "\n",
        "- We have 2 features $x_1$ and $x_2$ and which going into 3 LRs --> $d=2$\n",
        "- Notice that #LRUs/#neurons in last layer = number of classes --> $n = 3$\n",
        "- Thus, we will have\n",
        " - 2 $w$s for LR1, and\n",
        " - 2 $w$s for LR2, and\n",
        " - 2 $w$s for LR3,\n",
        "\n",
        "Therefore a total of: $6$\n",
        "\n"
      ]
    },
    {
      "cell_type": "markdown",
      "metadata": {
        "id": "j3nJ8iIS1OR8"
      },
      "source": [
        "![image.png](data:image/png;base64,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)"
      ]
    },
    {
      "cell_type": "markdown",
      "metadata": {
        "id": "qbnQaNM51Nns"
      },
      "source": [
        "\n",
        "#### Question: What should be the shape of W?\n",
        "\n",
        "\n"
      ]
    },
    {
      "cell_type": "markdown",
      "source": [
        "Before deciding on the shape of W, let's take a look at the data matrix, and the output matrix.\n",
        "\n",
        "\n",
        "> **Data Matrix**\n",
        "\n",
        "We have a total of $m$ training examples. Each of which contains of $d=2$ features.\n",
        "\n",
        "So, we have a data matrix $X$, that has the shape: **m x d**\n",
        "\n",
        "<br>\n",
        "\n",
        "> **Output matrix**\n",
        "\n",
        "We know that we're getting 3 values as outputs: probabilities of the data point belonging to class A, B or C respectively.\n",
        "\n",
        "Let $n=3$.\n",
        "\n",
        "Therefore, we will get 3 output values for all $m$ examples.\n",
        "\n",
        "Hence, shape of output matrix is: **m x n**\n",
        "\n",
        "<br>\n",
        "\n",
        "> **Weight matrix**\n",
        "\n",
        "Hence, in order to get the output matrix, as a dot product of data and weight matrices, the shape of weight matrix has to be: **d x n**\n",
        "\n",
        "$w^1 = \\begin{bmatrix}\n",
        "w_{11} & w_{12} & w_{13}\\\\\n",
        "w_{21} & w_{22} & w_{23}\n",
        "\\end{bmatrix}_{dxn}$"
      ],
      "metadata": {
        "id": "sb9TAUhmbu-s"
      }
    },
    {
      "cell_type": "markdown",
      "metadata": {
        "id": "dzKsuxLA1Seq"
      },
      "source": [
        "![image.png](data:image/png;base64,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)"
      ]
    },
    {
      "cell_type": "markdown",
      "source": [
        "\n",
        "#### Question: How many bias parameters $b$ will this system (of three LR/neurons) have?\n",
        "\n",
        "- $n=3$ LRUs --> 1 bias term per LRU, thus $n$ bias terms.\n",
        "- The bias term has to be added to the dot product of $X.W$.\n",
        "- Therefore, the shape of bias matrix should also be: **m x n**\n",
        "\n",
        "However, the value of bias will not change for different data points.\n",
        "- The same bias values can be broadcasted for m examples.\n",
        "- Therefore, the shape of bias matrix becomes: **1 x n**\n"
      ],
      "metadata": {
        "id": "Ie0tE0Szgcya"
      }
    },
    {
      "cell_type": "markdown",
      "source": [
        "#### Vectorized Implementation\n",
        "![picture](https://drive.google.com/uc?export=view&id=1nQjWBk9q5_2YUMJtM8o8-ZLMOFFrmi_-)\n"
      ],
      "metadata": {
        "id": "YT4XZ7EQn47p"
      }
    },
    {
      "cell_type": "markdown",
      "source": [
        "  \n",
        "<hr style=\"border:1px solid gray\"> </hr>\n",
        "  \n",
        "### Lets train this Softmax Classifier using Gradient Descent\n",
        "\n",
        "Let's implement the process of training this model using the process we followed earlier\n",
        "\n",
        "\n",
        "1. Initialise parameters: `W` and `b` matrices\n",
        "2. Calculate the output using the hypothesis.\n",
        "3. Calculate the error `J`\n",
        "4. Repeat until `J` converges\n",
        " - update $w_i = w_i - lr* \\frac{\\partial J}{\\partial w_i}$\n",
        " - calculate the output using hypothesis and updated params\n",
        " - calculate the error `J`\n"
      ],
      "metadata": {
        "id": "Mzr-cOeK87l3"
      }
    },
    {
      "cell_type": "markdown",
      "metadata": {
        "id": "v7IK21isrEV3"
      },
      "source": [
        "**Step 1**\n",
        "\n",
        "#### Let's initialise the parameters"
      ]
    },
    {
      "cell_type": "code",
      "execution_count": null,
      "metadata": {
        "id": "TtRydh-2rEV4"
      },
      "outputs": [],
      "source": [
        "# initialize parameters randomly\n",
        "W = 0.01 * np.random.randn(d,n)\n",
        "b = np.zeros((1,n))"
      ]
    },
    {
      "cell_type": "markdown",
      "metadata": {
        "id": "JqzgYKbxrEV4"
      },
      "source": [
        "**Step 2**\n",
        "\n",
        "#### Forward propagation\n",
        "\n",
        "#### Now, lets calculate the output using the hypothesis\n",
        "\n",
        "We will break this is into three parts\n",
        "1. calculate `z` using $XW$\n",
        "2. Apply Softmax on `z`\n",
        " - Raising z to exponential $e^z$ - `exp_z`\n",
        " - Normalising"
      ]
    },
    {
      "cell_type": "markdown",
      "metadata": {
        "id": "VWtfhc4frEV4"
      },
      "source": [
        "Let's compute the z scores"
      ]
    },
    {
      "cell_type": "code",
      "execution_count": null,
      "metadata": {
        "id": "-Y_56F_wrEV5",
        "outputId": "87c63a17-5dc8-4c28-b699-877a956e570e",
        "colab": {
          "base_uri": "https://localhost:8080/"
        }
      },
      "outputs": [
        {
          "output_type": "stream",
          "name": "stdout",
          "text": [
            "(300, 3)\n"
          ]
        }
      ],
      "source": [
        "# compute scores for a linear classifier\n",
        "z = np.dot(X, W) + b\n",
        "print(z.shape) # should be mXn = #examples X #output"
      ]
    },
    {
      "cell_type": "markdown",
      "metadata": {
        "id": "ASOSk_DtrEV5"
      },
      "source": [
        "Lets raise these scores to base $e$, and normalise them to get probabilities"
      ]
    },
    {
      "cell_type": "code",
      "execution_count": null,
      "metadata": {
        "id": "uWwFRrtcrEV5"
      },
      "outputs": [],
      "source": [
        "exp_z = np.exp(z)\n",
        "probs = exp_z / np.sum(exp_z, axis=1, keepdims=True) # explain why axis=1"
      ]
    },
    {
      "cell_type": "markdown",
      "metadata": {
        "id": "UuBTW3UjrEV6"
      },
      "source": [
        "Lets represent this process using a simple computation graph using the matrices.\n",
        "\n",
        "Here `s` represents softmax funtion\n",
        "\n"
      ]
    },
    {
      "cell_type": "markdown",
      "source": [
        "<center><img src='https://drive.google.com/uc?id=1rABeqxpwN2VtSF-J4GNo1MSA9UVPXS4g' width=600></center>\n",
        "\n",
        "\n"
      ],
      "metadata": {
        "id": "1P0xW330YPDZ"
      }
    },
    {
      "cell_type": "markdown",
      "source": [
        "---\n",
        "\n",
        "## Categorical Cross entropy"
      ],
      "metadata": {
        "id": "6g1jhVFr8n_C"
      }
    },
    {
      "cell_type": "markdown",
      "source": [
        "#### Question: What loss did we use for logistic regression ?\n",
        "\n",
        "Ans: Log loss\n",
        "\n",
        "$Log-loss$ = $y_i.log(ŷ_i) + (1 - y_i).log(1 - ŷ_i)$"
      ],
      "metadata": {
        "id": "h3NG_UDv8tes"
      }
    },
    {
      "cell_type": "markdown",
      "source": [
        "#### Question: Can we use this log-loss for multi-class setting ?\n",
        "\n",
        "**No**. Logloss only deals with binary setting as $ŷ$ over there represent prob. of datapoint belonging to class 1.\n",
        "\n",
        "We need a loss that can cater to the multi class setting. Let's define a loss"
      ],
      "metadata": {
        "id": "FwJIFERa98x6"
      }
    },
    {
      "cell_type": "markdown",
      "source": [
        "Suppose we have a point $x_i$\n",
        "- it can belong to one of the k classes i.e. total number of classes are $k$\n",
        "- Let $P_{ij}$ be the probab. of it belonging to $j^{th}$ class where $∀ j: 1 → k$\n",
        "\n",
        "\n",
        "\n"
      ],
      "metadata": {
        "id": "Na5fHu9M-N7s"
      }
    },
    {
      "cell_type": "markdown",
      "source": [
        "#### How will $y_i$ be represented?\n",
        "\n",
        "$y_i$'s will be **one hot encoded.**\n",
        "\n",
        "For example: If $y_i$ = 2 i.e. it belong to class 2.\n",
        "- then only $y_{i2}$ = 1\n",
        "- rest will be 0\n",
        "\n",
        "i.e. [0, 1, 0]"
      ],
      "metadata": {
        "id": "kRjgkSZaEJvW"
      }
    },
    {
      "cell_type": "markdown",
      "source": [
        "**Cross Entropy ($CE_i$)** for $i^{th}$ datapoint will be:\n",
        "\n",
        ">$CE_i$ = $-∑^k_{j =1}y_{ij}log(P_{ij})$"
      ],
      "metadata": {
        "id": "xuFNwF8KEKWK"
      }
    },
    {
      "cell_type": "markdown",
      "source": [
        "#### What happens to Cross entropy when k =2? (number of classes = 2)?\n"
      ],
      "metadata": {
        "id": "yIi_RfodFBxN"
      }
    },
    {
      "cell_type": "markdown",
      "source": [
        "When k =2 i.e. class 1 and class 2, CE becomes\n",
        "\n",
        "$CE_i$ = $- [y_{i1}log(P_{i1}) + y_{i2}log(P_{i2})]$\n",
        "\n",
        "where\n",
        "- $y_{i1}, y_{i2}$ are OHE target label\n",
        "- $P_{i1}, P_{i2}$ are the probab. of datapoint belonging to class 1 and class 2 resp.\n",
        "\n",
        "Suppose the datapoint belongs to class 1.\n",
        "- In that case,\n",
        "    - $y_{i1}$ = 1\n",
        "    - $y_{i2}$ = 0\n",
        "\n",
        "Hence, we can write\n",
        "- $P_{i2}$ as ($1 - P_{i1}$)\n",
        "- $y_{i2}$ as ($1 - y_{i1}$)\n",
        "\n",
        "So, we are basically extending log loss to multiclass setting"
      ],
      "metadata": {
        "id": "uMcNJ6wYFeyp"
      }
    },
    {
      "cell_type": "markdown",
      "source": [
        "Do NOTE that,\n",
        "- Logloss is also known as **Binary Cross entropy**\n",
        "\n",
        "\n",
        "\n"
      ],
      "metadata": {
        "id": "8qRzQSheJ5TV"
      }
    },
    {
      "cell_type": "markdown",
      "source": [
        "To summarize,\n",
        "- In binary setting\n",
        "    - we use Sigmoid for probability\n",
        "    - and Binary CE/logloss as loss function\n",
        "\n",
        "- In multiclass setting,\n",
        "    - we use softmax to compute class probabilities\n",
        "    - and Cross entropy as loss function"
      ],
      "metadata": {
        "id": "-eehIr3WKqy1"
      }
    },
    {
      "cell_type": "markdown",
      "source": [
        "**Step 3:**\n",
        "#### Calculate the loss.\n",
        "- Let's calculate **cross-entropy error**\n",
        " - It simplifies to taking log of predicted probability for the actual class\n",
        " - Why? Because the other terms will become $y_i*log(\\hat{y}_i)$ terms will become zero on multiplying $y_i=0$\n",
        " - Lets calculate cross-entropy error for each sample, and call it `error`\n",
        " - The full loss is then the average of these log probabilities to compute the loss\n"
      ],
      "metadata": {
        "id": "VOEAUZUmNzgE"
      }
    },
    {
      "cell_type": "code",
      "execution_count": null,
      "metadata": {
        "id": "Gg9jClP9rEV7",
        "outputId": "063ce02d-68d4-4102-b471-f5b4338e1932",
        "colab": {
          "base_uri": "https://localhost:8080/"
        }
      },
      "outputs": [
        {
          "output_type": "execute_result",
          "data": {
            "text/plain": [
              "1.1001642531669382"
            ]
          },
          "metadata": {},
          "execution_count": 8
        }
      ],
      "source": [
        "def loss(y, probs):\n",
        "    m = y.shape[0]\n",
        "    error = -np.log(probs[range(m), y])\n",
        "    return np.sum(error)/m\n",
        "loss(y, probs)"
      ]
    },
    {
      "cell_type": "markdown",
      "source": [
        "\n",
        "![picture](https://drive.google.com/uc?export=view&id=10RpkDV24RUonN49GjuZSW3wWsLkf0wRd)"
      ],
      "metadata": {
        "id": "HFtvIbLn-pEt"
      }
    },
    {
      "cell_type": "markdown",
      "metadata": {
        "id": "hPlz57KNrEV_"
      },
      "source": [
        "We simplify this using a simple computational graph"
      ]
    },
    {
      "cell_type": "markdown",
      "source": [
        "\n",
        "\n",
        "<center><img src='https://drive.google.com/uc?id=1r8o3z08wSbvp6YHFgGWsr05rqX50Noe6' width=600></center>\n",
        "\n",
        "\n",
        "\n"
      ],
      "metadata": {
        "id": "umfBGT3TTLtr"
      }
    }
  ]
}
{
  "nbformat": 4,
  "nbformat_minor": 0,
  "metadata": {
    "colab": {
      "provenance": []
    },
    "kernelspec": {
      "name": "python3",
      "display_name": "Python 3"
    },
    "language_info": {
      "name": "python"
    }
  },
  "cells": [
    {
      "cell_type": "code",
      "execution_count": null,
      "metadata": {
        "id": "mTVZJmQ41ymz"
      },
      "outputs": [],
      "source": []
    },
    {
      "cell_type": "markdown",
      "metadata": {
        "id": "5DotT-x0cRw3"
      },
      "source": [
        "## Keras Functional API\n",
        "\n"
      ]
    },
    {
      "cell_type": "markdown",
      "metadata": {
        "id": "azsbSqRs6e7B"
      },
      "source": [
        "Look at this complex model\n",
        "\n",
        "#### Question: Can you design this model using Keras Sequential API ?\n",
        "- No, there is no way to pass two inputs to one layer in Sequential API\n",
        "- We use another API of Keras called as Functional API to design such complex models"
      ]
    },
    {
      "cell_type": "markdown",
      "metadata": {
        "id": "hOfK7Dsp51_8"
      },
      "source": [
        " <img width=50% src='https://drive.google.com/uc?id=1Gzjwzg9pfJFlewyjMN_0uBiWA7_rKnXT'>\n"
      ]
    },
    {
      "cell_type": "markdown",
      "metadata": {
        "id": "WR0HPQr8cU6P"
      },
      "source": [
        "#### Why do we need Functional API instead of Sequential API?\n",
        "\n",
        "- Functional API gives us **more flexibility**\n",
        "- This API can handle **multiple inputs and outputs**\n",
        "- lets say we have an image and a text description as our training data\n",
        "- Or we want model to output two or more target variables\n",
        "- Ex- A weather forecast model predicting Min & Max temp at the same time\n",
        "- Sequential API wont be able to do this"
      ]
    },
    {
      "cell_type": "markdown",
      "metadata": {
        "id": "8iAuWTrtymbI"
      },
      "source": [
        "Look at this complex model design, it can not be created using Sequential API but easily by Functional API\n",
        "- Multiple inputs to one layer\n",
        "- Multiple outputs of one layer"
      ]
    },
    {
      "cell_type": "markdown",
      "metadata": {
        "id": "E-Yl9hMd7luC"
      },
      "source": [
        " <img src='https://drive.google.com/uc?id=1gqeSg6z5ckj6NAS9v011P9c7j8EbG3--'>"
      ]
    },
    {
      "cell_type": "markdown",
      "metadata": {
        "id": "RHDtzyjx9Y1b"
      },
      "source": [
        "- So functional api gives us more **flexibility for network architectures**\n",
        "- architectures are not always in sequential manner\n",
        "- we can have two layers in parallel  "
      ]
    },
    {
      "cell_type": "markdown",
      "metadata": {
        "id": "x-VmG5VM-y_z"
      },
      "source": [
        "- It is always recommend to **use the simplest method while building networks**\n",
        "- Simple models can be easily built with Sequential API\n",
        "- But sometimes we need the flexibility"
      ]
    },
    {
      "cell_type": "code",
      "execution_count": null,
      "metadata": {
        "id": "d2A1IMeLAUZb"
      },
      "outputs": [],
      "source": [
        "from tensorflow.keras.layers import Dense\n",
        "from tensorflow.keras.models import Sequential"
      ]
    },
    {
      "cell_type": "code",
      "execution_count": null,
      "metadata": {
        "id": "J_zNwFWFXf2k"
      },
      "outputs": [],
      "source": [
        "model_sequential = Sequential([\n",
        "                    Dense(16, activation=\"relu\", input_shape=(11,), name=\"hidden_1\"),\n",
        "                    Dense(8, activation=\"relu\", name=\"hidden_2\"),\n",
        "                    Dense(4, activation=\"softmax\", name=\"output\")\n",
        "])"
      ]
    },
    {
      "cell_type": "markdown",
      "metadata": {
        "id": "ar2VGOD3_okb"
      },
      "source": [
        "- Earlier we have created this model using Sequential API\n",
        "- Now lets create same model using Functional API"
      ]
    },
    {
      "cell_type": "code",
      "execution_count": null,
      "metadata": {
        "id": "2ow0rzsFAWUL"
      },
      "outputs": [],
      "source": [
        "from tensorflow.keras.layers import Input"
      ]
    },
    {
      "cell_type": "markdown",
      "metadata": {
        "id": "GmgCYCS6AqWb"
      },
      "source": [
        "- In Sequential we passed input shape in the first layer\n",
        "- But Here we will be using an additional layer : **Input layer**\n",
        "- we're going to explicitly have a separate layer to represent the data input."
      ]
    },
    {
      "cell_type": "markdown",
      "metadata": {
        "id": "40WYQDKTBsnL"
      },
      "source": [
        "- Another main diference is `tf.keras.models.Model`\n",
        "- Here instead of Sequential, here **we will be using Model Class**"
      ]
    },
    {
      "cell_type": "markdown",
      "metadata": {
        "id": "O3ZW2qwLIwzC"
      },
      "source": [
        "### Keras Functional Model Class"
      ]
    },
    {
      "cell_type": "markdown",
      "metadata": {
        "id": "D4b7BKlNCbwj"
      },
      "source": [
        "- First we create an input layer with the shape of the dataframe"
      ]
    },
    {
      "cell_type": "code",
      "execution_count": null,
      "metadata": {
        "id": "GXew1-mLAgHq"
      },
      "outputs": [],
      "source": [
        "inp = Input(shape=(11, 1))"
      ]
    },
    {
      "cell_type": "markdown",
      "metadata": {
        "id": "N1kny9BeCtJb"
      },
      "source": [
        "- Next we will be creating our first two layer of the model\n",
        "- Instead of creating a list (as in Sequential)\n",
        "- We will also pass previous layer in the current layer\n",
        "- In first dense `hidden_1` we will pass `inp`\n",
        "- And in second `hidden_1` we will pass `hidden_2`"
      ]
    },
    {
      "cell_type": "code",
      "execution_count": null,
      "metadata": {
        "id": "aGEnVaLvDwMz"
      },
      "outputs": [],
      "source": [
        "h1 = Dense(16, activation=\"relu\", name=\"hidden_1\")(inp)\n",
        "h2 = Dense(4, activation=\"relu\", name=\"hidden_2\")(h1)"
      ]
    },
    {
      "cell_type": "markdown",
      "metadata": {
        "id": "HH4KSraxEMtC"
      },
      "source": [
        "- Now we will create the final output layer"
      ]
    },
    {
      "cell_type": "code",
      "execution_count": null,
      "metadata": {
        "id": "HJyc2PruqTNx"
      },
      "outputs": [],
      "source": [
        "out = Dense(4, activation=\"softmax\", name=\"output\")(h2)"
      ]
    },
    {
      "cell_type": "markdown",
      "metadata": {
        "id": "Pf3CUPQzEfRz"
      },
      "source": [
        "- We have defined the flow of the model\n",
        "- Finally,  to built a model using this directed graph\n",
        "- We will use `tf.keras.models.Model`, and pass all the inputs and outputs"
      ]
    },
    {
      "cell_type": "code",
      "execution_count": null,
      "metadata": {
        "id": "UiGlGpnzGREy"
      },
      "outputs": [],
      "source": [
        "from tensorflow.keras.models import Model"
      ]
    },
    {
      "cell_type": "code",
      "execution_count": null,
      "metadata": {
        "id": "ssVVm7M4EYJ4"
      },
      "outputs": [],
      "source": [
        "model_functional = Model(inputs=inp, outputs=out, name=\"simple_nn\")"
      ]
    },
    {
      "cell_type": "markdown",
      "metadata": {
        "id": "_q-pQ6SwrGEs"
      },
      "source": [
        "Let's generalize above code inside a function"
      ]
    },
    {
      "cell_type": "code",
      "execution_count": null,
      "metadata": {
        "id": "jMYHax_9GlBi"
      },
      "outputs": [],
      "source": [
        "def create_model_functional():\n",
        "\n",
        "  inp = Input(shape=(11, 1))\n",
        "\n",
        "  h1 = Dense(16, activation=\"relu\", name=\"hidden_1\")(inp)\n",
        "  h2 = Dense(8 , activation=\"relu\", name=\"hidden_2\")(h1)\n",
        "\n",
        "  out = Dense(4, activation=\"softmax\", name=\"output\")(h2)\n",
        "\n",
        "  model = Model(inputs=inp, outputs=out, name=\"simple_nn\")\n",
        "  return model"
      ]
    },
    {
      "cell_type": "code",
      "execution_count": null,
      "metadata": {
        "id": "ZWDeCiia5XmI"
      },
      "outputs": [],
      "source": [
        "model_functional = create_model_functional()"
      ]
    },
    {
      "cell_type": "code",
      "execution_count": null,
      "metadata": {
        "colab": {
          "base_uri": "https://localhost:8080/"
        },
        "id": "6hv-57Fk5gkH",
        "outputId": "18993ffa-6a10-48d4-a30c-36a241b9aebf"
      },
      "outputs": [
        {
          "output_type": "stream",
          "name": "stdout",
          "text": [
            "Model: \"simple_nn\"\n",
            "_________________________________________________________________\n",
            " Layer (type)                Output Shape              Param #   \n",
            "=================================================================\n",
            " input_2 (InputLayer)        [(None, 11, 1)]           0         \n",
            "                                                                 \n",
            " hidden_1 (Dense)            (None, 11, 16)            32        \n",
            "                                                                 \n",
            " hidden_2 (Dense)            (None, 11, 8)             136       \n",
            "                                                                 \n",
            " output (Dense)              (None, 11, 4)             36        \n",
            "                                                                 \n",
            "=================================================================\n",
            "Total params: 204\n",
            "Trainable params: 204\n",
            "Non-trainable params: 0\n",
            "_________________________________________________________________\n"
          ]
        }
      ],
      "source": [
        "model_functional.summary()"
      ]
    },
    {
      "cell_type": "code",
      "execution_count": null,
      "metadata": {
        "colab": {
          "base_uri": "https://localhost:8080/",
          "height": 422
        },
        "id": "DtJLJWkVoEPE",
        "outputId": "bc4436d2-5d95-4b1a-ab2a-ed363c2ea8f0"
      },
      "outputs": [
        {
          "output_type": "execute_result",
          "data": {
            "image/png": "[encoded data removed]",
            "text/plain": [
              "<IPython.core.display.Image object>"
            ]
          },
          "metadata": {},
          "execution_count": 60
        }
      ],
      "source": [
        "#And, optionally, display the input and output shapes of each layer in the plotted graph:\n",
        "\n",
        "tf.keras.utils.plot_model(model_functional,show_shapes=True)"
      ]
    },
    {
      "cell_type": "code",
      "execution_count": null,
      "metadata": {
        "colab": {
          "base_uri": "https://localhost:8080/",
          "height": 533
        },
        "id": "CSigk0SsHFx6",
        "outputId": "3a3ff708-d18b-4e40-a68b-6060694a9e85"
      },
      "outputs": [
        {
          "output_type": "execute_result",
          "data": {
            "image/png": "[encoded data removed]",
            "text/plain": [
              "<IPython.core.display.Image object>"
            ]
          },
          "metadata": {},
          "execution_count": 61
        }
      ],
      "source": [
        "# let's create a little complex model using functional API's with more than one output\n",
        "\n",
        "def create_model_multiple_output():\n",
        "  inp = Input(shape=(11, 1))\n",
        "\n",
        "  h1 = Dense(16, activation=\"relu\", name=\"hidden_1\")(inp)\n",
        "  h2 = Dense(8 , activation=\"relu\", name=\"hidden_2\")(h1)\n",
        "  h3 = Dense(4 , activation=\"relu\", name=\"hidden_3\")(h2)\n",
        "\n",
        "  out1 = Dense(1, activation=\"sigmoid\", name=\"output1\")(h3)\n",
        "  out2 = Dense(1, activation=\"relu\", name=\"output2\")(h3)\n",
        "\n",
        "  model = Model(inputs=inp, outputs=[out1,out2], name=\"simple_nn\")\n",
        "  return model\n",
        "\n",
        "# creating model with multiple output\n",
        "model_multiple_output = create_model_multiple_output()\n",
        "\n",
        "# plotting model with multiple output\n",
        "tf.keras.utils.plot_model(model_multiple_output,show_shapes=True)"
      ]
    }
  ]
}
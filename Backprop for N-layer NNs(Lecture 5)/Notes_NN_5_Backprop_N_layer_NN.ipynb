{
  "nbformat": 4,
  "nbformat_minor": 0,
  "metadata": {
    "colab": {
      "provenance": []
    },
    "kernelspec": {
      "name": "python3",
      "display_name": "Python 3"
    },
    "language_info": {
      "name": "python"
    }
  },
  "cells": [
    {
      "cell_type": "markdown",
      "source": [
        "## Content\n",
        "\n",
        "- **Backpropagation in N layered NN**"
      ],
      "metadata": {
        "id": "l6cXr7mFjjZV"
      }
    },
    {
      "cell_type": "code",
      "source": [
        "import pandas as pd\n",
        "import numpy as np"
      ],
      "metadata": {
        "id": "ZLYwdCpdgNYy"
      },
      "execution_count": null,
      "outputs": []
    },
    {
      "cell_type": "code",
      "source": [
        "!gdown 1dLOPwh01o3k8p_hK633ixhD1ehz6nNWk\n",
        "df = pd.read_csv(\"/content/spiral.csv\")\n",
        "\n",
        "# Separating feature and label columns\n",
        "X = df.iloc[:, :-1].to_numpy()\n",
        "y = df.iloc[:, -1].to_numpy()"
      ],
      "metadata": {
        "colab": {
          "base_uri": "https://localhost:8080/"
        },
        "id": "b2DwJZ28gJxB",
        "outputId": "e7b31f87-a064-4c5f-e619-30a2326ca47c"
      },
      "execution_count": null,
      "outputs": [
        {
          "output_type": "stream",
          "name": "stdout",
          "text": [
            "Downloading...\n",
            "From: https://drive.google.com/uc?id=1dLOPwh01o3k8p_hK633ixhD1ehz6nNWk\n",
            "To: /content/spiral.csv\n",
            "\r  0% 0.00/12.9k [00:00<?, ?B/s]\r100% 12.9k/12.9k [00:00<00:00, 14.9MB/s]\n"
          ]
        }
      ]
    },
    {
      "cell_type": "markdown",
      "source": [
        "Now, let's get back to our NN network"
      ],
      "metadata": {
        "id": "KVfSGd_aHqlr"
      }
    },
    {
      "cell_type": "markdown",
      "source": [
        "<center><img src='https://drive.google.com/uc?id=1PWWndBIY0xFSxY7E06DEoTH9-JNuZryf' width=\"700\"></center>\n",
        "\n"
      ],
      "metadata": {
        "id": "bkjAr2U6Hyh-"
      }
    },
    {
      "cell_type": "markdown",
      "source": [
        "#### How'll computational graph look for above NN ?"
      ],
      "metadata": {
        "id": "TbKCU6nAIKsV"
      }
    },
    {
      "cell_type": "markdown",
      "source": [
        "<center><img src='https://drive.google.com/uc?id=1AN7oW_aSWmGb8PeQS8xtlytsqI0YZUUT' width=\"700\"></center>\n",
        "\n"
      ],
      "metadata": {
        "id": "8P8sGIHoIU44"
      }
    },
    {
      "cell_type": "markdown",
      "metadata": {
        "id": "NenozJcZrEWE"
      },
      "source": [
        "### Forward Propagation"
      ]
    },
    {
      "cell_type": "markdown",
      "source": [
        "Now, we need to calculate Z1,\n",
        "- for this we multiply each row of X with each column of W1\n",
        "- add bias to it (using broadcasting)\n",
        "\n",
        "\n",
        "The formulation comes out to be:\n",
        "\n",
        "$$X.W + b$$"
      ],
      "metadata": {
        "id": "JnXJolbZt133"
      }
    },
    {
      "cell_type": "code",
      "source": [
        "import numpy as np\n",
        "# initialize parameters randomly\n",
        "d = 2 # diensionality / number of inputs\n",
        "n = 3 # Number of classes (A/B/C) / Number of neurons in output layer\n",
        "h = 4 # neurons in hidden layer"
      ],
      "metadata": {
        "id": "UpSGuRU0y5oW"
      },
      "execution_count": null,
      "outputs": []
    },
    {
      "cell_type": "markdown",
      "source": [
        "Let;s intitialise these matrices randomly."
      ],
      "metadata": {
        "id": "IHJReVDzyzwv"
      }
    },
    {
      "cell_type": "code",
      "execution_count": null,
      "metadata": {
        "id": "UCY9Gn0lrEWE"
      },
      "outputs": [],
      "source": [
        "W1 = 0.01 * np.random.randn(d,h)\n",
        "b1 = np.zeros((1,h))\n",
        "W2 = 0.01 * np.random.randn(h,n)\n",
        "b2 = np.zeros((1,n))"
      ]
    },
    {
      "cell_type": "code",
      "execution_count": null,
      "metadata": {
        "id": "X2faLFmnrEWE"
      },
      "outputs": [],
      "source": [
        "Z1 = np.dot(X, W1) + b1 # (300,2) x (2,4) + (1,4) => (300,4)\n",
        "A1 = np.maximum(0, Z1) # ReLU if Z1 < 0 A1 =0 else A1 = Z1"
      ]
    },
    {
      "cell_type": "markdown",
      "source": [
        "#### Calculation Z2 and A2"
      ],
      "metadata": {
        "id": "u57B3T81uOXU"
      }
    },
    {
      "cell_type": "markdown",
      "source": [
        "Now, in order to get shape of (300,3)\n",
        "- we need to multiply $A_1$ with $W^2$ and add bias $b^2$ to it\n"
      ],
      "metadata": {
        "id": "sBMxydYkx0p6"
      }
    },
    {
      "cell_type": "code",
      "source": [
        "Z2 = np.dot(A1, W2) + b2  # (300, 4) x (4, 3) + (1, 3) => (300, 3)\n",
        "# Applying softmax function to get A2\n",
        "Z2_exp = np.exp(Z2)\n",
        "A2 = Z2_exp/np.sum(Z2_exp, axis=1, keepdims=True)\n",
        "probs = A2"
      ],
      "metadata": {
        "id": "d8hQfcg7e8Tp"
      },
      "execution_count": null,
      "outputs": []
    },
    {
      "cell_type": "markdown",
      "metadata": {
        "id": "XC1h07UxrEWE"
      },
      "source": [
        "- Notice that the only change from before is one extra line of code.\n",
        "- We first compute the hidden layer representation and considered that as an input to the output layer."
      ]
    },
    {
      "cell_type": "markdown",
      "source": [
        "<center><img src='https://drive.google.com/uc?id=1DQslNtKXMEvwHd5xCplRiiORyEEIIugt' width=\"700\"></center>\n",
        "\n"
      ],
      "metadata": {
        "id": "QOcmp1F8L-7f"
      }
    },
    {
      "cell_type": "markdown",
      "metadata": {
        "id": "uLLKODN9rEWE"
      },
      "source": [
        "### Loss\n",
        "\n",
        "#### Question: Will the loss change?\n",
        "\n",
        "No\n",
        "\n",
        "### Backpropagation\n",
        "\n",
        "#### Will the gradient calculation change?\n",
        "\n",
        "No, but, we would have to backpropagate the gradients for one additional layer."
      ]
    },
    {
      "cell_type": "code",
      "execution_count": null,
      "metadata": {
        "id": "djjOv187rEWE"
      },
      "outputs": [],
      "source": [
        "# Number of training examples\n",
        "m = y.shape[0] # 300 datapoints"
      ]
    },
    {
      "cell_type": "markdown",
      "source": [
        "#### Calculating dz2"
      ],
      "metadata": {
        "id": "KVq2uZLip5t1"
      }
    },
    {
      "cell_type": "markdown",
      "source": [
        "<center><img src='https://drive.google.com/uc?id=1F8bmELjo3Wb4gOltpB1dsditiw68E9wo' width=\"700\"></center>\n",
        "\n"
      ],
      "metadata": {
        "id": "m5MxEogZcIMe"
      }
    },
    {
      "cell_type": "markdown",
      "source": [
        "$$dZ_2 = \\frac{∂L}{∂Z_2}$$\n",
        "\n",
        "\n",
        "So,\n",
        "\n",
        "$$\\frac{∂L}{∂Z_2} = \\frac{∂L}{∂A_2}.\\frac{∂A_2}{∂Z_2}$$\n",
        "\n",
        "Here, $A_2$ is our output probabilities.\n",
        "- Replaceing $A_2$ with $p$\n",
        "\n",
        "$$\\frac{∂L}{∂Z_2} = \\frac{∂L}{∂p}.\\frac{∂p}{∂Z_2}$$\n",
        "\n",
        "#### Doesn't this look familiar ?\n",
        "\n",
        "- This is similar to what we calculated previously i.e derivative of Loss w.r.t to Z\n",
        "\n",
        "$$dz=\\frac{\\partial J}{\\partial p} \\frac{\\partial p}{\\partial z}$$\n",
        "\n",
        "- The derivative came out to be : $dz = (p_i - I (i=y))$\n",
        "\n",
        "\n",
        "Hence, $dZ_2 = (p_i - I (i=y))$\n",
        "\n",
        "\n"
      ],
      "metadata": {
        "id": "lNpgXmNpp83F"
      }
    },
    {
      "cell_type": "code",
      "source": [
        "dZ2 = probs\n",
        "dZ2[range(m),y] -= 1"
      ],
      "metadata": {
        "id": "FE0y547c5JB9"
      },
      "execution_count": null,
      "outputs": []
    },
    {
      "cell_type": "markdown",
      "source": [
        "#### What will be the shape of dZ2 ?"
      ],
      "metadata": {
        "id": "vAA8ofaUysdB"
      }
    },
    {
      "cell_type": "markdown",
      "source": [
        "As dZ2 is same as probabilties,\n",
        "- its shape will be (m,3) or (300, 3)"
      ],
      "metadata": {
        "id": "ZXfBit3PzAKn"
      }
    },
    {
      "cell_type": "markdown",
      "source": [
        "#### Calculating $dW^2$ and $db^2$"
      ],
      "metadata": {
        "id": "Xjyuvgfmr1in"
      }
    },
    {
      "cell_type": "markdown",
      "metadata": {
        "id": "MCwJ4_MPrEWF"
      },
      "source": [
        "Gradient calculation for $dW^2$ and $db^2$ will also be similar to $dW$ and $db$ in the softmax classifier case"
      ]
    },
    {
      "cell_type": "markdown",
      "source": [
        "<center><img src='https://drive.google.com/uc?id=1pyy0nm9bRONADdWGYmEJCtC3Y7gRiWTJ' width=\"700\"></center>\n",
        "\n"
      ],
      "metadata": {
        "id": "XhaSXlTRtISQ"
      }
    },
    {
      "cell_type": "markdown",
      "source": [
        "$$dW_2 = \\frac{∂L}{∂W^2} = \\frac{∂L}{∂A_2}.\\frac{∂A_2}{∂Z_2}.\\frac{∂Z_2}{∂W^2}$$\n",
        "\n",
        "$$= dZ_2.\\frac{∂Z_2}{∂W^2}$$\n",
        "\n",
        "Here, $Z_2 = W^{2^{T}}.A_1 + b^2$\n",
        "\n",
        "So, $\\frac{∂Z_2}{∂W^2} = A_1$\n",
        "\n",
        "$$dW_2 = \\frac{∂L}{∂W^2} = dZ_2 . A_1$$\n",
        "\n",
        "\n"
      ],
      "metadata": {
        "id": "cCQ1g0TmuBcC"
      }
    },
    {
      "cell_type": "markdown",
      "source": [
        "#### How to do mat mul for dW2  ?"
      ],
      "metadata": {
        "id": "9x68P15mzLRZ"
      }
    },
    {
      "cell_type": "markdown",
      "source": [
        "- Shape of dZ2 = (300, 3)\n",
        "- Shape of A1 = (300, 4)\n",
        "\n",
        "#### What should be the shape of dW2 ?\n",
        "\n",
        "We know that dW2 will be used for updating $W^2$\n",
        "- its shape should match of $W^2$\n",
        "\n",
        "Hence, shape of dW2 will be (4,3)\n",
        "\n"
      ],
      "metadata": {
        "id": "_FVVYHZ81R61"
      }
    },
    {
      "cell_type": "markdown",
      "source": [
        "We have to multipy dZ2 and A1\n",
        "- such that we get (4,3)\n",
        "\n",
        "For that, we take a transpose of A1 and multiply it with dW2.\n",
        "\n",
        "=> $A_1^T. dZ_2$ = (4, 300) x (300, 3) = (4, 3)"
      ],
      "metadata": {
        "id": "XR0kiHkg1lnV"
      }
    },
    {
      "cell_type": "markdown",
      "source": [
        "<center><img src='https://drive.google.com/uc?id=1JE6a4iXmFJO_Uno_OlUdccZ6hSMT4mGi' width=\"700\"></center>\n",
        "\n"
      ],
      "metadata": {
        "id": "95N-MebY1Nwh"
      }
    },
    {
      "cell_type": "code",
      "execution_count": null,
      "metadata": {
        "id": "TjY5p67hrEWF"
      },
      "outputs": [],
      "source": [
        "# shape A1 => (300,4)  shape dZ2 (equal to probability)=> (300,3)\n",
        "dW2 = np.dot(A1.T, dZ2)/m # shape => (4, 300) x (300, 3) => (4,3)"
      ]
    },
    {
      "cell_type": "markdown",
      "source": [
        "#### But, why are we dividing by m ?"
      ],
      "metadata": {
        "id": "sumY4y07_P4V"
      }
    },
    {
      "cell_type": "markdown",
      "source": [
        "Recall that in GD,\n",
        "- as we are using all datapoints for calculating the updated w\n",
        "    - we take average of it by dividing it by total number of datapoints"
      ],
      "metadata": {
        "id": "gY04HPvNAPy2"
      }
    },
    {
      "cell_type": "markdown",
      "source": [
        "<center><img src='https://drive.google.com/uc?id=1d-Oqw5zbGhS3zin_mnycATtK3hOsPDvd' width=\"700\"></center>\n"
      ],
      "metadata": {
        "id": "zGWGgqoP_YEB"
      }
    },
    {
      "cell_type": "markdown",
      "source": [
        "#### Where all do we need to divide by m ?\n",
        "$ $\n",
        "Our goal is to update weights and biases\n",
        "- so we can either do with while calculating the derivates dW2, db2, dW1, db1 (like we are doing)\n",
        "- or we can do it when updating the weights\n",
        "    - i.e. $w^1 = w^1 - η.dw^1.\\frac{1}{m}$"
      ],
      "metadata": {
        "id": "QYpJ9nz9Aelv"
      }
    },
    {
      "cell_type": "markdown",
      "source": [
        "Similarly, we calculate db2"
      ],
      "metadata": {
        "id": "TAmY_3VXt6EL"
      }
    },
    {
      "cell_type": "markdown",
      "source": [
        "<center><img src='https://drive.google.com/uc?id=1DWakdq7pybp7cn8kyfM_P8Dfr2XSHWe2' width=\"700\"></center>\n",
        "\n",
        "\n"
      ],
      "metadata": {
        "id": "gcoDFQG-wxO6"
      }
    },
    {
      "cell_type": "markdown",
      "source": [
        "$$db_2 = \\frac{∂L}{∂b^2} = \\frac{∂L}{∂A_2}.\\frac{∂A_2}{∂Z_2}.\\frac{∂Z_2}{∂b^2}$$\n",
        "\n",
        "Now,\n",
        "\n",
        "$$\\frac{∂Z_2}{∂b^2} = \\frac{∂(W^2A_1 + b^2)}{db^2} = 1$$\n",
        "\n",
        "$$db_2 = \\frac{∂L}{∂b^2} = \\frac{∂L}{∂A_2}.\\frac{∂A_2}{∂Z_2}.1 = dZ_2$$\n"
      ],
      "metadata": {
        "id": "Dxg9EqXZw_2r"
      }
    },
    {
      "cell_type": "markdown",
      "source": [
        "#### Question:  What will be the shape of db2 ?"
      ],
      "metadata": {
        "id": "7fFf3o9T2IP1"
      }
    },
    {
      "cell_type": "markdown",
      "source": [
        "We know that db2 will be used to update $b^2$\n",
        "- so their shape should match\n",
        "\n",
        "Hence, Shape of db2 = (1,3)"
      ],
      "metadata": {
        "id": "BP8lb9EWaMGf"
      }
    },
    {
      "cell_type": "markdown",
      "source": [
        "But, dZ2 shape is (300, 3)\n",
        "\n",
        "Now, recall that we are doing GD not SGD.\n",
        "- we need to sum up the derivates across across the rows and then average it out before using it for update\n"
      ],
      "metadata": {
        "id": "u47nIfTPaU4V"
      }
    },
    {
      "cell_type": "markdown",
      "source": [
        "<center><img src='https://drive.google.com/uc?id=1ES5B4mTwP6hhAbo1-EZaMkaF4bupg06M' width=\"700\"></center>\n",
        "\n",
        "\n"
      ],
      "metadata": {
        "id": "cU9N4RDb43pH"
      }
    },
    {
      "cell_type": "markdown",
      "source": [
        "- So, we'll take the sum across the row"
      ],
      "metadata": {
        "id": "p_3GhI9rapWx"
      }
    },
    {
      "cell_type": "code",
      "source": [
        "db2 = np.sum(dZ2, axis=0, keepdims=True)/m # shape (1 ,3)"
      ],
      "metadata": {
        "id": "BMAJYaUUt5ZY"
      },
      "execution_count": null,
      "outputs": []
    },
    {
      "cell_type": "markdown",
      "metadata": {
        "id": "VkFcUS5crEWF"
      },
      "source": [
        "However, unlike earlier, we are not done yet, because $A_2$ is also a function of $Z_1$, and indirectly of ($W^1$ and $b^1$)\n",
        "- We still need to calculate $dW^1$ and $db^1$\n",
        "- So, we would need to calculate $dZ_1$, followed by $dW^1$ and $dW^2$"
      ]
    },
    {
      "cell_type": "markdown",
      "source": [
        "#### Calculating $dA_1$"
      ],
      "metadata": {
        "id": "0YJ6aidmx8Gq"
      }
    },
    {
      "cell_type": "markdown",
      "source": [
        "<center><img src='https://drive.google.com/uc?id=13n_WJ9wkWALTdUcrKfD_hCRf6yQt81B1' width=\"700\"></center>\n",
        "\n",
        "\n",
        "\n"
      ],
      "metadata": {
        "id": "EmTimJIhytPp"
      }
    },
    {
      "cell_type": "markdown",
      "source": [
        "$$dA_1 = \\frac{∂L}{∂A_1} = \\frac{∂L}{∂A_2}.\\frac{∂A_2}{∂Z_2}.\\frac{∂Z_2}{∂A_1}$$\n",
        "\n",
        "\n",
        "We know that, $$\\frac{∂L}{∂A_2}.\\frac{∂A_2}{∂Z_2} = dZ_2$$\n",
        "\n",
        "Now,\n",
        "\n",
        "$$\\frac{∂Z_2}{∂A_1} = \\frac{∂(W^2A_1 + b^2)}{dA_1} = W^2$$\n",
        "\n",
        "\n",
        "$$dA_1 =\\frac{∂L}{∂A_2}.\\frac{∂A_2}{∂Z_2}.W^2 = dZ_2.W^2$$\n"
      ],
      "metadata": {
        "id": "Zl0fOfJUzwQ0"
      }
    },
    {
      "cell_type": "markdown",
      "source": [
        "<center><img src='https://drive.google.com/uc?id=1zbsHvM-7MmCQt_1cp2gfs_lWt7d5zYSS' width=\"700\"></center>\n",
        "\n",
        "\n"
      ],
      "metadata": {
        "id": "aFKda7I579ra"
      }
    },
    {
      "cell_type": "markdown",
      "source": [
        "#### What will be the shape of dA1?\n",
        "\n"
      ],
      "metadata": {
        "id": "w3KWLcxQ5oGH"
      }
    },
    {
      "cell_type": "markdown",
      "source": [
        "<center><img src='https://drive.google.com/uc?id=1Wd-6VK4FV7FcCpEu0IvHre0DTMAcBYoD' width=\"700\"></center>\n",
        "\n",
        "\n",
        "\n",
        "\n",
        "\n"
      ],
      "metadata": {
        "id": "dEY9M9dK78HX"
      }
    },
    {
      "cell_type": "markdown",
      "source": [
        "Shape of dA1 will be same as dZ1\n",
        "- as A1 is ReLU on top of Z1\n",
        "\n"
      ],
      "metadata": {
        "id": "9zsyIVge8K6V"
      }
    },
    {
      "cell_type": "markdown",
      "source": [
        "#### What will be the shape of dZ1 ?\n",
        "- we can calculate it using dW1\n",
        "\n",
        "We know, $$dW^1 = dZ_1.X$$\n",
        "\n",
        "Here,\n",
        "- shape of dW1 = (2,4) i.e. same as W^1\n",
        "- shape of X = (300, 2)\n",
        "\n",
        "Now, in order to get (2,4),\n",
        "- we'll need to take transpose of X (2, 300)\n",
        "- and multiply it by $dZ^1$\n",
        "\n",
        "So, shape of dZ1 will be (300, 4)\n",
        "- Hence, shape of $dA_1$ will be (300, 4)"
      ],
      "metadata": {
        "id": "XlwMMVIVazKX"
      }
    },
    {
      "cell_type": "markdown",
      "source": [
        "#### What will be the matrix multiplication  then?"
      ],
      "metadata": {
        "id": "hT9namcB9L1M"
      }
    },
    {
      "cell_type": "markdown",
      "source": [
        "<center><img src='https://drive.google.com/uc?id=1VYZS8hjBj0m8K6V3GvIHPN7krAx8qRsR' width=\"700\"></center>\n",
        "\n",
        "\n"
      ],
      "metadata": {
        "id": "WrUBKHlP9vzT"
      }
    },
    {
      "cell_type": "markdown",
      "source": [
        "Now that, we have all the shapes\n",
        "- dZ2 = (300, 3)\n",
        "- $W^2$ = (4,3)\n",
        "\n",
        "We need a final shape of (300, 4)\n",
        "\n",
        "So, we will have to\n",
        "- multiply dZ2 with transpose of $W^2$\n",
        "- (300, 3) x (3, 4) => (300, 4)\n",
        "\n",
        "$$dA_1 = dZ_2.W^{2^{T}}$$"
      ],
      "metadata": {
        "id": "CxWtG2Q19RTd"
      }
    },
    {
      "cell_type": "code",
      "execution_count": null,
      "metadata": {
        "id": "-1_fc6GDrEWF"
      },
      "outputs": [],
      "source": [
        "dA1 = np.dot(dZ2, W2.T) # (300,3) x (3 , 4) => (300, 4)"
      ]
    },
    {
      "cell_type": "markdown",
      "source": [
        "#### Calculating $dZ_1$"
      ],
      "metadata": {
        "id": "_YXNa9Px0sXd"
      }
    },
    {
      "cell_type": "markdown",
      "metadata": {
        "id": "62HBVo7xrEWF"
      },
      "source": [
        " Now, we have to pass back through the ReLU layer to calculate the gradient $dZ_1$"
      ]
    },
    {
      "cell_type": "markdown",
      "source": [
        "<center><img src='https://drive.google.com/uc?id=1vmbFE7xwHaNE4TusswmoZlWrlW8zCZsD' width=\"700\"></center>\n",
        "\n",
        "\n",
        "\n"
      ],
      "metadata": {
        "id": "lryS3eDq1Zm4"
      }
    },
    {
      "cell_type": "markdown",
      "source": [
        "$$ \\frac{∂L}{∂Z_1} = \\frac{∂L}{∂A_2}.\\frac{∂A_2}{∂Z_2}.\\frac{∂Z_2}{∂A_1}.\\frac{∂A_1}{∂Z_1}$$\n",
        "\n",
        "We know that,\n",
        "\n",
        "$$\\frac{∂L}{∂A_2}.\\frac{∂A_2}{∂Z_2}.\\frac{∂Z_2}{∂A_1} = dA_1 $$\n",
        "\n",
        "\n",
        "We have to calculate $\\frac{∂A_1}{∂Z_1}$"
      ],
      "metadata": {
        "id": "yCCb5lqU3QRQ"
      }
    },
    {
      "cell_type": "markdown",
      "source": [
        "<center><img src='https://drive.google.com/uc?id=1a6fEWOVciKR6YOe5GIbrXtfGNQj9f4Zh' width=\"700\"></center>\n",
        "\n"
      ],
      "metadata": {
        "id": "dBj0T6DN5cRc"
      }
    },
    {
      "cell_type": "markdown",
      "source": [
        "<center><img src='https://drive.google.com/uc?id=1tjieJQH7V3_qkaZRHSu-2iqTmEEk9dIC' width=\"700\"></center>\n",
        "\n"
      ],
      "metadata": {
        "id": "n-eKtKlq6Dzo"
      }
    },
    {
      "cell_type": "code",
      "execution_count": null,
      "metadata": {
        "id": "SyCkJcxRrEWF"
      },
      "outputs": [],
      "source": [
        "dA1[Z1 <= 0] = 0 # was dA1[A1 <= 0] = 0. changed it to dA1[Z1 <= 0] = 0\n",
        "dZ1 = dA1 # same shape as dA1 (300, 4)"
      ]
    },
    {
      "cell_type": "markdown",
      "source": [
        "#### But, why are we updating dA1 and not making a copy of it?\n",
        "\n",
        "Ans: The purpose of calculating dA1 and dZ1 is to ultimately calculate dW1 and db1.\n",
        "\n",
        "These are being used for intermediatory purpose.\n",
        "\n",
        "So, making changes in dA1 won't change anything as\n",
        "- we have already calculated dZ1\n",
        "- and we won't be using dA1 anywhere else except for calc. of dZ1"
      ],
      "metadata": {
        "id": "YVUhW7FHgXYo"
      }
    },
    {
      "cell_type": "markdown",
      "metadata": {
        "id": "WiqY9XlQrEWG"
      },
      "source": [
        "This also means that we need to save the intermediate output values from the forward pass.\n",
        "\n",
        "Finally, $dW^1$ and $db^1$ are calculated the same way we did earlier."
      ]
    },
    {
      "cell_type": "markdown",
      "source": [
        "#### Calculating $dW^1$ and $db^1$"
      ],
      "metadata": {
        "id": "3LFF0PybAePt"
      }
    },
    {
      "cell_type": "markdown",
      "source": [
        "<center><img src='https://drive.google.com/uc?id=1grv9nsgIxDgxls2GUD3X11maRnThiULU' width=\"700\"></center>\n",
        "\n"
      ],
      "metadata": {
        "id": "LLIesEgw9DIc"
      }
    },
    {
      "cell_type": "markdown",
      "source": [
        "<center><img src='https://drive.google.com/uc?id=15cxgjprVngsg35-dowXZ8aeN3-HitX8F' width=\"700\"></center>\n",
        "\n"
      ],
      "metadata": {
        "id": "Do9ZfbuJ-3V9"
      }
    },
    {
      "cell_type": "markdown",
      "source": [
        "$$ \\frac{∂L}{∂W^1} = \\frac{∂L}{∂A_2}.\\frac{∂A_2}{∂Z_2}.\\frac{∂Z_2}{∂A_1}.\\frac{∂A_1}{∂Z_1}.\\frac{∂Z_1}{∂W^1}$$\n",
        "\n",
        "We know that,\n",
        "\n",
        "$$\\frac{∂L}{∂A_2}.\\frac{∂A_2}{∂Z_2}.\\frac{∂Z_2}{∂A_1}.\\frac{∂Z_1}{∂A_1} = dZ_1 $$\n",
        "\n",
        "\n",
        "We have to calculate $\\frac{∂Z_1}{∂W^1}$\n",
        "\n",
        "$$\\frac{∂Z_1}{∂W^1} = \\frac{∂(W^1.X + b^1)}{∂W^1} = X $$\n",
        "\n",
        "\n",
        "So,\n",
        "\n",
        "$$ \\frac{∂L}{∂W^1} = dZ_1.X$$"
      ],
      "metadata": {
        "id": "0mRg94aC-2DT"
      }
    },
    {
      "cell_type": "markdown",
      "source": [
        "Similarly, for $db^1$"
      ],
      "metadata": {
        "id": "bA6kxrXi-9Yk"
      }
    },
    {
      "cell_type": "markdown",
      "source": [
        "<center><img src='https://drive.google.com/uc?id=1Hz3jZr-HD-GmgOYu58DBn-CWCSisIF69' width=\"700\"></center>\n",
        "\n",
        "\n",
        "\n"
      ],
      "metadata": {
        "id": "hlLgXqWJAlGT"
      }
    },
    {
      "cell_type": "markdown",
      "source": [
        "$$ \\frac{∂L}{∂b^1} = \\frac{∂L}{∂A_2}.\\frac{∂A_2}{∂Z_2}.\\frac{∂Z_2}{∂A_1}.\\frac{∂A_1}{∂Z_1}.\\frac{∂Z_1}{∂b^1}$$\n",
        "\n",
        "We know that,\n",
        "\n",
        "$$\\frac{∂L}{∂A_2}.\\frac{∂A_2}{∂Z_2}.\\frac{∂Z_2}{∂A_1}.\\frac{∂Z_1}{∂A_1} = dZ_1 $$\n",
        "\n",
        "\n",
        "We have to calculate $\\frac{∂Z_1}{∂b^1}$\n",
        "\n",
        "$$\\frac{∂Z_1}{∂b^1} = \\frac{∂(W^1.X + b^1)}{∂b^1} = 1 $$\n",
        "\n",
        "\n",
        "So,\n",
        "\n",
        "$$ \\frac{∂L}{∂b^1} = dZ_1.1$$"
      ],
      "metadata": {
        "id": "RyDoutBHA6hp"
      }
    },
    {
      "cell_type": "code",
      "execution_count": null,
      "metadata": {
        "id": "Cjju4gURrEWG"
      },
      "outputs": [],
      "source": [
        "dW1 = np.dot(X.T, dZ1)/m # (2, 300) x (300 ,4) => (2, 4)\n",
        "db1 = np.sum(dZ1, axis=0, keepdims=True)/m"
      ]
    },
    {
      "cell_type": "markdown",
      "source": [
        "Now that we've found these gradients, we update the weight and bias values as:-\n"
      ],
      "metadata": {
        "id": "-TxOQ2KE7uTp"
      }
    },
    {
      "cell_type": "code",
      "source": [
        "lr = 1e-0"
      ],
      "metadata": {
        "id": "DROjJjp16mEX"
      },
      "execution_count": null,
      "outputs": []
    },
    {
      "cell_type": "code",
      "source": [
        "# perform a parameter update\n",
        "W1 += -lr * dW1\n",
        "b1 += -lr * db1\n",
        "W2 += -lr * dW2\n",
        "b2 += -lr * db2"
      ],
      "metadata": {
        "id": "0dqRYm0472sQ"
      },
      "execution_count": null,
      "outputs": []
    },
    {
      "cell_type": "markdown",
      "source": [
        "This parameter updation is done untill it converges (error goes down)."
      ],
      "metadata": {
        "id": "-poceGqg8DIc"
      }
    },
    {
      "cell_type": "markdown",
      "source": [
        "#### Summarizing whole process"
      ],
      "metadata": {
        "id": "zumaZQ8xSIkG"
      }
    },
    {
      "cell_type": "markdown",
      "source": [
        "A single GD cycle for weight update looks like following :"
      ],
      "metadata": {
        "id": "07kHYWpqYioI"
      }
    },
    {
      "cell_type": "markdown",
      "source": [
        "<center><img src='https://drive.google.com/uc?id=1NLwEygpmxSqUbJJQJCb8xdFNJYELa2Ur' width=\"700\"></center>\n",
        "\n",
        "\n"
      ],
      "metadata": {
        "id": "7KuROszgR5dq"
      }
    },
    {
      "cell_type": "markdown",
      "source": [
        "Let's write all the derivatives"
      ],
      "metadata": {
        "id": "iiKhmBIKSPiv"
      }
    },
    {
      "cell_type": "markdown",
      "source": [
        "<center><img src='https://drive.google.com/uc?id=1JXuVt7j_BykkF9pKN0z-1Lc9zjO4V8l-' width=\"700\"></center>\n",
        "\n"
      ],
      "metadata": {
        "id": "EqWO9qhHRzq5"
      }
    },
    {
      "cell_type": "markdown",
      "source": [
        "Notice that,\n",
        "- We use dZ2 for calculation of dW2, db2 and dA1.\n",
        "- similarly, we use dA1 for calculation of dZ1.\n",
        "- and dZ1 for calculation of dW1 and db1."
      ],
      "metadata": {
        "id": "trW6kaFfSd8X"
      }
    },
    {
      "cell_type": "markdown",
      "source": [
        "So, in order to not calculate value of deeper derivaties i.e dA1, dZ1 again and again\n",
        "- we calculate and store the derivatives of deeper layer\n",
        "- so as we can use them to calculate derivative of shallow layers\n",
        "\n",
        "This is called as **memoization**\n",
        "- also used in **dynamic programming**"
      ],
      "metadata": {
        "id": "9rm0ZvgYS1_N"
      }
    },
    {
      "cell_type": "markdown",
      "source": [
        "#### Simplfying the single cycle of updation"
      ],
      "metadata": {
        "id": "RGStIXhXZKZx"
      }
    },
    {
      "cell_type": "markdown",
      "source": [
        "<center><img src='https://drive.google.com/uc?id=1_1GnlUchtfVNFzf1suRhowbnBrkzohmh' width=\"700\"></center>\n",
        "\n"
      ],
      "metadata": {
        "id": "oU8lcUtGWrTR"
      }
    },
    {
      "cell_type": "markdown",
      "source": [
        "While performing forward prop,\n",
        "- we store/cache the value of $Z_j, W^j, b^j$ in order to use them during back prop\n",
        "- For example: dA1 uses $w^2$ for its calculation."
      ],
      "metadata": {
        "id": "e8uzmQuUYyim"
      }
    },
    {
      "cell_type": "markdown",
      "metadata": {
        "id": "M-nWDh_IrEWG"
      },
      "source": [
        "Done! Let's put everything together."
      ]
    },
    {
      "cell_type": "code",
      "execution_count": null,
      "metadata": {
        "id": "YCaMRBxKrEWG",
        "outputId": "dc8fddb2-37e5-465e-f8c0-c7e3f27c34b8",
        "colab": {
          "base_uri": "https://localhost:8080/"
        }
      },
      "outputs": [
        {
          "output_type": "stream",
          "name": "stdout",
          "text": [
            "iteration 0: loss 1.098502\n",
            "iteration 1000: loss 0.323320\n",
            "iteration 2000: loss 0.261405\n",
            "iteration 3000: loss 0.255624\n",
            "iteration 4000: loss 0.253868\n",
            "iteration 5000: loss 0.252423\n",
            "iteration 6000: loss 0.251553\n",
            "iteration 7000: loss 0.250943\n",
            "iteration 8000: loss 0.250460\n",
            "iteration 9000: loss 0.250189\n"
          ]
        }
      ],
      "source": [
        "# initialize parameters randomly\n",
        "d = 2\n",
        "h = 100 # size of hidden layer\n",
        "n = 3\n",
        "W1 = 0.01 * np.random.randn(d,h)\n",
        "b1 = np.zeros((1,h))\n",
        "W2 = 0.01 * np.random.randn(h,n)\n",
        "b2 = np.zeros((1,n))\n",
        "\n",
        "# some hyperparameters\n",
        "lr = 1e-0\n",
        "reg = 1e-3 # regularization strength\n",
        "num_examples = X.shape[0]\n",
        "\n",
        "for i in range(10000):\n",
        "\n",
        "    # forward prop\n",
        "    Z1 = np.dot(X, W1) + b1\n",
        "    A1 = np.maximum(0, Z1)\n",
        "    Z2 = np.dot(A1, W2) + b2\n",
        "    Z2 = np.exp(Z2)\n",
        "    A2 = Z2 / np.sum(Z2, axis=1, keepdims=True)\n",
        "    probs = A2\n",
        "\n",
        "    # calc. loss\n",
        "    correct_logprobs = -np.log(probs[range(num_examples),y])\n",
        "    data_loss = np.sum(correct_logprobs)/num_examples\n",
        "    reg_loss = 0.5*reg*np.sum(W1*W1) + 0.5*reg*np.sum(W2*W2) # regularization\n",
        "    loss = data_loss + reg_loss # adding reg. to loss\n",
        "    if i % 1000 == 0:\n",
        "        print(\"iteration %d: loss %f\" % (i, loss))\n",
        "\n",
        "    # backprop\n",
        "    # compute the gradient on scores\n",
        "    dZ2 = probs\n",
        "    dZ2[range(num_examples),y] -= 1\n",
        "    dZ2 /= num_examples\n",
        "\n",
        "    # first backprop into parameters W2 and b2\n",
        "    dW2 = np.dot(A1.T, dZ2)\n",
        "    db2 = np.sum(dZ2, axis=0, keepdims=True)\n",
        "    # next backprop into hidden layer, A1\n",
        "    dA1 = np.dot(dZ2, W2.T)\n",
        "    # backprop the ReLU non-linearity\n",
        "    dA1[Z1 <= 0] = 0\n",
        "    # finally into W,b\n",
        "    dZ1 = dA1\n",
        "    dW1 = np.dot(X.T, dZ1)\n",
        "    db1 = np.sum(dZ1, axis=0, keepdims=True)\n",
        "\n",
        "    # add regularization gradient contribution\n",
        "    dW2 += reg * W2\n",
        "    dW1 += reg * W1\n",
        "\n",
        "    # perform a parameter update\n",
        "    W1 += -lr * dW1\n",
        "    b1 += -lr * db1\n",
        "    W2 += -lr * dW2\n",
        "    b2 += -lr * db2"
      ]
    },
    {
      "cell_type": "markdown",
      "metadata": {
        "id": "xhEtzZUHrEWH"
      },
      "source": [
        "#### NN class - all code wrapped as class"
      ]
    },
    {
      "cell_type": "code",
      "execution_count": null,
      "metadata": {
        "id": "04v7YLXurEWH",
        "colab": {
          "base_uri": "https://localhost:8080/"
        },
        "outputId": "1c43f84d-971d-4197-d495-c193930a995d"
      },
      "outputs": [
        {
          "output_type": "stream",
          "name": "stdout",
          "text": [
            "iteration 0: loss 1.098640\n",
            "iteration 1000: loss 0.319168\n",
            "iteration 2000: loss 0.253549\n",
            "iteration 3000: loss 0.249735\n",
            "iteration 4000: loss 0.248432\n",
            "iteration 5000: loss 0.247951\n",
            "iteration 6000: loss 0.247623\n",
            "iteration 7000: loss 0.247415\n",
            "iteration 8000: loss 0.247351\n",
            "iteration 9000: loss 0.247299\n",
            "training accuracy: 0.99\n"
          ]
        }
      ],
      "source": [
        "class NN:\n",
        "\n",
        "    def __init__(self, n_features, n_hidden, n_classes):\n",
        "        self.d = n_features\n",
        "        self.h = n_hidden\n",
        "        self.n = n_classes\n",
        "        self.W1 = 0.01 * np.random.randn(self.d, self.h)\n",
        "        self.b1 = np.zeros((1,self.h))\n",
        "        self.W2 = 0.01 * np.random.randn(self.h,self.n)\n",
        "        self.b2 = np.zeros((1,self.n))\n",
        "\n",
        "    def fwd_prop(self, X):\n",
        "        Z1 = np.dot(X, self.W1) + self.b1\n",
        "        A1 = np.maximum(0, Z1)\n",
        "        Z2 = np.dot(A1, self.W2) + self.b2\n",
        "        Z2 = np.exp(Z2)\n",
        "        A2 = Z2 / np.sum(Z2, axis=1, keepdims=True)\n",
        "        return A1, A2\n",
        "\n",
        "    def cce_loss(self, y, probs):\n",
        "        num_examples = y.shape[0]\n",
        "        correct_logprobs = -np.log(probs[range(num_examples),y])\n",
        "        loss = np.sum(correct_logprobs)/num_examples\n",
        "        return loss\n",
        "\n",
        "    def back_prop(self, X, A1, A2, y):\n",
        "        # compute the gradient on scores\n",
        "        num_examples = y.shape[0]\n",
        "        dZ2 = A2\n",
        "        dZ2[range(num_examples),y] -= 1\n",
        "        dZ2 /= num_examples\n",
        "        # first backprop into parameters W2 and b2\n",
        "        dW2 = np.dot(A1.T, dZ2)\n",
        "        db2 = np.sum(dZ2, axis=0, keepdims=True)\n",
        "        # next backprop into hidden layer, A1\n",
        "        dA1 = np.dot(dZ2, self.W2.T)\n",
        "        # backprop the ReLU non-linearity\n",
        "        dA1[A1 <= 0] = 0\n",
        "        # finally into W,b\n",
        "        dZ1 = dA1\n",
        "        dW1 = np.dot(X.T, dZ1)\n",
        "        db1 = np.sum(dZ1, axis=0, keepdims=True)\n",
        "        return dW1, db1, dW2, db2\n",
        "\n",
        "    def fit(self, X, lr, reg, max_iters):\n",
        "        num_examples = X.shape[0]\n",
        "        for i in range(max_iters):\n",
        "            #foward prop\n",
        "            A1, A2 = self.fwd_prop(X)\n",
        "            # calculate loss\n",
        "            data_loss = self.cce_loss(y, A2)\n",
        "            reg_loss = 0.5*reg*np.sum(self.W1*self.W1) + 0.5*reg*np.sum(self.W2*self.W2)\n",
        "            loss = data_loss + reg_loss\n",
        "\n",
        "            if i % 1000 == 0:\n",
        "                print(\"iteration %d: loss %f\" % (i, loss))\n",
        "\n",
        "            dW1, db1, dW2, db2  = self.back_prop(X, A1, A2, y)\n",
        "\n",
        "            # add regularization gradient contribution\n",
        "            dW2 += reg * self.W2\n",
        "            dW1 += reg * self.W1\n",
        "\n",
        "            # perform a parameter update\n",
        "            self.W1 += -lr * dW1\n",
        "            self.b1 += -lr * db1\n",
        "            self.W2 += -lr * dW2\n",
        "            self.b2 += -lr * db2\n",
        "\n",
        "    def predict(self, X):\n",
        "        A1 = np.maximum(0, np.dot(X, self.W1) + self.b1) # ReLU(Z1) = ReLU(W1T. X + b1)\n",
        "        Z2 = np.dot(A1, self.W2) + self.b2 # Z2 = W2T.A1 + b2 => 3 probab\n",
        "        y_hat = np.argmax(Z2, axis=1) # taking index of max probab\n",
        "        return y_hat\n",
        "\n",
        "nn_model = NN(n_features=2, n_hidden=100, n_classes=3)\n",
        "nn_model.fit(X, lr=1, reg=1e-3, max_iters=10000)\n",
        "print('training accuracy: %.2f' % (np.mean(nn_model.predict(X) == y)))"
      ]
    },
    {
      "cell_type": "code",
      "source": [
        "from matplotlib import pyplot as plt"
      ],
      "metadata": {
        "id": "u_4VUY4OBtvn"
      },
      "execution_count": null,
      "outputs": []
    },
    {
      "cell_type": "code",
      "execution_count": null,
      "metadata": {
        "id": "zCXe-zVirEWH",
        "outputId": "e30dc123-201d-4c2e-b3c2-163d35890884",
        "colab": {
          "base_uri": "https://localhost:8080/",
          "height": 265
        }
      },
      "outputs": [
        {
          "output_type": "display_data",
          "data": {
            "text/plain": [
              "<Figure size 432x288 with 1 Axes>"
            ],
            "image/png": "[encoded data removed]"
          },
          "metadata": {
            "needs_background": "light"
          }
        }
      ],
      "source": [
        "# create a 2D grid\n",
        "step = 0.02\n",
        "x_min, x_max = X[:, 0].min() - 1, X[:, 0].max() + 1\n",
        "y_min, y_max = X[:, 1].min() - 1, X[:, 1].max() + 1\n",
        "xx, yy = np.meshgrid(np.arange(x_min, x_max, step), np.arange(y_min, y_max, step))\n",
        "\n",
        "# predict for all the points in the grid\n",
        "\n",
        "y_hat = nn_model.predict(np.c_[xx.ravel(), yy.ravel()])\n",
        "y_hat = y_hat.reshape(xx.shape)\n",
        "\n",
        "# plot\n",
        "fig = plt.figure()\n",
        "plt.contourf(xx, yy, y_hat, cmap=plt.cm.Spectral, alpha=0.8)\n",
        "plt.scatter(X[:, 0], X[:, 1], c=y, s=40, cmap=plt.cm.Spectral)\n",
        "plt.xlim(xx.min(), xx.max())\n",
        "plt.ylim(yy.min(), yy.max())\n",
        "plt.show()"
      ]
    }
  ]
}
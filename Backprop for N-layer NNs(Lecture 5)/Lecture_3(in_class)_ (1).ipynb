{
  "nbformat": 4,
  "nbformat_minor": 0,
  "metadata": {
    "colab": {
      "provenance": []
    },
    "kernelspec": {
      "name": "python3",
      "display_name": "Python 3"
    },
    "language_info": {
      "name": "python"
    }
  },
  "cells": [
    {
      "cell_type": "code",
      "execution_count": 1,
      "metadata": {
        "colab": {
          "base_uri": "https://localhost:8080/",
          "height": 275
        },
        "id": "cLyGtU2IfXDO",
        "outputId": "8dd8b098-02bc-4da6-c617-94d304564db6"
      },
      "outputs": [
        {
          "output_type": "stream",
          "name": "stdout",
          "text": [
            "Downloading...\n",
            "From: https://drive.google.com/uc?id=1dLOPwh01o3k8p_hK633ixhD1ehz6nNWk\n",
            "To: /content/spiral.csv\n",
            "\r  0% 0.00/12.9k [00:00<?, ?B/s]\r100% 12.9k/12.9k [00:00<00:00, 19.9MB/s]\n"
          ]
        },
        {
          "output_type": "execute_result",
          "data": {
            "text/plain": [
              "         x1        x2  y\n",
              "0  0.000000  0.000000  0\n",
              "1 -0.000650  0.010080  0\n",
              "2  0.009809  0.017661  0\n",
              "3  0.007487  0.029364  0\n",
              "4 -0.000027  0.040404  0"
            ],
            "text/html": [
              "\n",
              "  <div id=\"df-bc81453d-109d-48db-b80d-c2fc4c914901\" class=\"colab-df-container\">\n",
              "    <div>\n",
              "<style scoped>\n",
              "    .dataframe tbody tr th:only-of-type {\n",
              "        vertical-align: middle;\n",
              "    }\n",
              "\n",
              "    .dataframe tbody tr th {\n",
              "        vertical-align: top;\n",
              "    }\n",
              "\n",
              "    .dataframe thead th {\n",
              "        text-align: right;\n",
              "    }\n",
              "</style>\n",
              "<table border=\"1\" class=\"dataframe\">\n",
              "  <thead>\n",
              "    <tr style=\"text-align: right;\">\n",
              "      <th></th>\n",
              "      <th>x1</th>\n",
              "      <th>x2</th>\n",
              "      <th>y</th>\n",
              "    </tr>\n",
              "  </thead>\n",
              "  <tbody>\n",
              "    <tr>\n",
              "      <th>0</th>\n",
              "      <td>0.000000</td>\n",
              "      <td>0.000000</td>\n",
              "      <td>0</td>\n",
              "    </tr>\n",
              "    <tr>\n",
              "      <th>1</th>\n",
              "      <td>-0.000650</td>\n",
              "      <td>0.010080</td>\n",
              "      <td>0</td>\n",
              "    </tr>\n",
              "    <tr>\n",
              "      <th>2</th>\n",
              "      <td>0.009809</td>\n",
              "      <td>0.017661</td>\n",
              "      <td>0</td>\n",
              "    </tr>\n",
              "    <tr>\n",
              "      <th>3</th>\n",
              "      <td>0.007487</td>\n",
              "      <td>0.029364</td>\n",
              "      <td>0</td>\n",
              "    </tr>\n",
              "    <tr>\n",
              "      <th>4</th>\n",
              "      <td>-0.000027</td>\n",
              "      <td>0.040404</td>\n",
              "      <td>0</td>\n",
              "    </tr>\n",
              "  </tbody>\n",
              "</table>\n",
              "</div>\n",
              "    <div class=\"colab-df-buttons\">\n",
              "\n",
              "  <div class=\"colab-df-container\">\n",
              "    <button class=\"colab-df-convert\" onclick=\"convertToInteractive('df-bc81453d-109d-48db-b80d-c2fc4c914901')\"\n",
              "            title=\"Convert this dataframe to an interactive table.\"\n",
              "            style=\"display:none;\">\n",
              "\n",
              "  <svg xmlns=\"http://www.w3.org/2000/svg\" height=\"24px\" viewBox=\"0 -960 960 960\">\n",
              "    <path d=\"M120-120v-720h720v720H120Zm60-500h600v-160H180v160Zm220 220h160v-160H400v160Zm0 220h160v-160H400v160ZM180-400h160v-160H180v160Zm440 0h160v-160H620v160ZM180-180h160v-160H180v160Zm440 0h160v-160H620v160Z\"/>\n",
              "  </svg>\n",
              "    </button>\n",
              "\n",
              "  <style>\n",
              "    .colab-df-container {\n",
              "      display:flex;\n",
              "      gap: 12px;\n",
              "    }\n",
              "\n",
              "    .colab-df-convert {\n",
              "      background-color: #E8F0FE;\n",
              "      border: none;\n",
              "      border-radius: 50%;\n",
              "      cursor: pointer;\n",
              "      display: none;\n",
              "      fill: #1967D2;\n",
              "      height: 32px;\n",
              "      padding: 0 0 0 0;\n",
              "      width: 32px;\n",
              "    }\n",
              "\n",
              "    .colab-df-convert:hover {\n",
              "      background-color: #E2EBFA;\n",
              "      box-shadow: 0px 1px 2px rgba(60, 64, 67, 0.3), 0px 1px 3px 1px rgba(60, 64, 67, 0.15);\n",
              "      fill: #174EA6;\n",
              "    }\n",
              "\n",
              "    .colab-df-buttons div {\n",
              "      margin-bottom: 4px;\n",
              "    }\n",
              "\n",
              "    [theme=dark] .colab-df-convert {\n",
              "      background-color: #3B4455;\n",
              "      fill: #D2E3FC;\n",
              "    }\n",
              "\n",
              "    [theme=dark] .colab-df-convert:hover {\n",
              "      background-color: #434B5C;\n",
              "      box-shadow: 0px 1px 3px 1px rgba(0, 0, 0, 0.15);\n",
              "      filter: drop-shadow(0px 1px 2px rgba(0, 0, 0, 0.3));\n",
              "      fill: #FFFFFF;\n",
              "    }\n",
              "  </style>\n",
              "\n",
              "    <script>\n",
              "      const buttonEl =\n",
              "        document.querySelector('#df-bc81453d-109d-48db-b80d-c2fc4c914901 button.colab-df-convert');\n",
              "      buttonEl.style.display =\n",
              "        google.colab.kernel.accessAllowed ? 'block' : 'none';\n",
              "\n",
              "      async function convertToInteractive(key) {\n",
              "        const element = document.querySelector('#df-bc81453d-109d-48db-b80d-c2fc4c914901');\n",
              "        const dataTable =\n",
              "          await google.colab.kernel.invokeFunction('convertToInteractive',\n",
              "                                                    [key], {});\n",
              "        if (!dataTable) return;\n",
              "\n",
              "        const docLinkHtml = 'Like what you see? Visit the ' +\n",
              "          '<a target=\"_blank\" href=https://colab.research.google.com/notebooks/data_table.ipynb>data table notebook</a>'\n",
              "          + ' to learn more about interactive tables.';\n",
              "        element.innerHTML = '';\n",
              "        dataTable['output_type'] = 'display_data';\n",
              "        await google.colab.output.renderOutput(dataTable, element);\n",
              "        const docLink = document.createElement('div');\n",
              "        docLink.innerHTML = docLinkHtml;\n",
              "        element.appendChild(docLink);\n",
              "      }\n",
              "    </script>\n",
              "  </div>\n",
              "\n",
              "\n",
              "<div id=\"df-7c8ec654-f78e-4501-8217-01992540f067\">\n",
              "  <button class=\"colab-df-quickchart\" onclick=\"quickchart('df-7c8ec654-f78e-4501-8217-01992540f067')\"\n",
              "            title=\"Suggest charts\"\n",
              "            style=\"display:none;\">\n",
              "\n",
              "<svg xmlns=\"http://www.w3.org/2000/svg\" height=\"24px\"viewBox=\"0 0 24 24\"\n",
              "     width=\"24px\">\n",
              "    <g>\n",
              "        <path d=\"M19 3H5c-1.1 0-2 .9-2 2v14c0 1.1.9 2 2 2h14c1.1 0 2-.9 2-2V5c0-1.1-.9-2-2-2zM9 17H7v-7h2v7zm4 0h-2V7h2v10zm4 0h-2v-4h2v4z\"/>\n",
              "    </g>\n",
              "</svg>\n",
              "  </button>\n",
              "\n",
              "<style>\n",
              "  .colab-df-quickchart {\n",
              "      --bg-color: #E8F0FE;\n",
              "      --fill-color: #1967D2;\n",
              "      --hover-bg-color: #E2EBFA;\n",
              "      --hover-fill-color: #174EA6;\n",
              "      --disabled-fill-color: #AAA;\n",
              "      --disabled-bg-color: #DDD;\n",
              "  }\n",
              "\n",
              "  [theme=dark] .colab-df-quickchart {\n",
              "      --bg-color: #3B4455;\n",
              "      --fill-color: #D2E3FC;\n",
              "      --hover-bg-color: #434B5C;\n",
              "      --hover-fill-color: #FFFFFF;\n",
              "      --disabled-bg-color: #3B4455;\n",
              "      --disabled-fill-color: #666;\n",
              "  }\n",
              "\n",
              "  .colab-df-quickchart {\n",
              "    background-color: var(--bg-color);\n",
              "    border: none;\n",
              "    border-radius: 50%;\n",
              "    cursor: pointer;\n",
              "    display: none;\n",
              "    fill: var(--fill-color);\n",
              "    height: 32px;\n",
              "    padding: 0;\n",
              "    width: 32px;\n",
              "  }\n",
              "\n",
              "  .colab-df-quickchart:hover {\n",
              "    background-color: var(--hover-bg-color);\n",
              "    box-shadow: 0 1px 2px rgba(60, 64, 67, 0.3), 0 1px 3px 1px rgba(60, 64, 67, 0.15);\n",
              "    fill: var(--button-hover-fill-color);\n",
              "  }\n",
              "\n",
              "  .colab-df-quickchart-complete:disabled,\n",
              "  .colab-df-quickchart-complete:disabled:hover {\n",
              "    background-color: var(--disabled-bg-color);\n",
              "    fill: var(--disabled-fill-color);\n",
              "    box-shadow: none;\n",
              "  }\n",
              "\n",
              "  .colab-df-spinner {\n",
              "    border: 2px solid var(--fill-color);\n",
              "    border-color: transparent;\n",
              "    border-bottom-color: var(--fill-color);\n",
              "    animation:\n",
              "      spin 1s steps(1) infinite;\n",
              "  }\n",
              "\n",
              "  @keyframes spin {\n",
              "    0% {\n",
              "      border-color: transparent;\n",
              "      border-bottom-color: var(--fill-color);\n",
              "      border-left-color: var(--fill-color);\n",
              "    }\n",
              "    20% {\n",
              "      border-color: transparent;\n",
              "      border-left-color: var(--fill-color);\n",
              "      border-top-color: var(--fill-color);\n",
              "    }\n",
              "    30% {\n",
              "      border-color: transparent;\n",
              "      border-left-color: var(--fill-color);\n",
              "      border-top-color: var(--fill-color);\n",
              "      border-right-color: var(--fill-color);\n",
              "    }\n",
              "    40% {\n",
              "      border-color: transparent;\n",
              "      border-right-color: var(--fill-color);\n",
              "      border-top-color: var(--fill-color);\n",
              "    }\n",
              "    60% {\n",
              "      border-color: transparent;\n",
              "      border-right-color: var(--fill-color);\n",
              "    }\n",
              "    80% {\n",
              "      border-color: transparent;\n",
              "      border-right-color: var(--fill-color);\n",
              "      border-bottom-color: var(--fill-color);\n",
              "    }\n",
              "    90% {\n",
              "      border-color: transparent;\n",
              "      border-bottom-color: var(--fill-color);\n",
              "    }\n",
              "  }\n",
              "</style>\n",
              "\n",
              "  <script>\n",
              "    async function quickchart(key) {\n",
              "      const quickchartButtonEl =\n",
              "        document.querySelector('#' + key + ' button');\n",
              "      quickchartButtonEl.disabled = true;  // To prevent multiple clicks.\n",
              "      quickchartButtonEl.classList.add('colab-df-spinner');\n",
              "      try {\n",
              "        const charts = await google.colab.kernel.invokeFunction(\n",
              "            'suggestCharts', [key], {});\n",
              "      } catch (error) {\n",
              "        console.error('Error during call to suggestCharts:', error);\n",
              "      }\n",
              "      quickchartButtonEl.classList.remove('colab-df-spinner');\n",
              "      quickchartButtonEl.classList.add('colab-df-quickchart-complete');\n",
              "    }\n",
              "    (() => {\n",
              "      let quickchartButtonEl =\n",
              "        document.querySelector('#df-7c8ec654-f78e-4501-8217-01992540f067 button');\n",
              "      quickchartButtonEl.style.display =\n",
              "        google.colab.kernel.accessAllowed ? 'block' : 'none';\n",
              "    })();\n",
              "  </script>\n",
              "</div>\n",
              "\n",
              "    </div>\n",
              "  </div>\n"
            ],
            "application/vnd.google.colaboratory.intrinsic+json": {
              "type": "dataframe",
              "variable_name": "df",
              "summary": "{\n  \"name\": \"df\",\n  \"rows\": 300,\n  \"fields\": [\n    {\n      \"column\": \"x1\",\n      \"properties\": {\n        \"dtype\": \"number\",\n        \"std\": 0.41654960510744843,\n        \"min\": -0.9179811969350636,\n        \"max\": 0.9766644406491988,\n        \"num_unique_values\": 298,\n        \"samples\": [\n          0.0350318773008942,\n          -0.5331784416678195,\n          -0.4097667283334345\n        ],\n        \"semantic_type\": \"\",\n        \"description\": \"\"\n      }\n    },\n    {\n      \"column\": \"x2\",\n      \"properties\": {\n        \"dtype\": \"number\",\n        \"std\": 0.40168624168752143,\n        \"min\": -0.8585153350667682,\n        \"max\": 0.9120723276999256,\n        \"num_unique_values\": 298,\n        \"samples\": [\n          0.605047292194027,\n          -0.400206438960095,\n          -0.3899468920523587\n        ],\n        \"semantic_type\": \"\",\n        \"description\": \"\"\n      }\n    },\n    {\n      \"column\": \"y\",\n      \"properties\": {\n        \"dtype\": \"number\",\n        \"std\": 0,\n        \"min\": 0,\n        \"max\": 2,\n        \"num_unique_values\": 3,\n        \"samples\": [\n          0,\n          1,\n          2\n        ],\n        \"semantic_type\": \"\",\n        \"description\": \"\"\n      }\n    }\n  ]\n}"
            }
          },
          "metadata": {},
          "execution_count": 1
        }
      ],
      "source": [
        "import pandas as pd\n",
        "import matplotlib.pyplot as plt\n",
        "import numpy as np\n",
        "\n",
        "!gdown 1dLOPwh01o3k8p_hK633ixhD1ehz6nNWk\n",
        "df = pd.read_csv(\"/content/spiral.csv\")\n",
        "df.head()"
      ]
    },
    {
      "cell_type": "code",
      "source": [
        "df.shape"
      ],
      "metadata": {
        "colab": {
          "base_uri": "https://localhost:8080/"
        },
        "id": "IwU0AMeZfbI7",
        "outputId": "435961e2-073b-4e89-9f88-9b1e1c63f49e"
      },
      "execution_count": 2,
      "outputs": [
        {
          "output_type": "execute_result",
          "data": {
            "text/plain": [
              "(300, 3)"
            ]
          },
          "metadata": {},
          "execution_count": 2
        }
      ]
    },
    {
      "cell_type": "code",
      "source": [
        "x = df.iloc[:,:-1].to_numpy()#converting this to a matrix from data frame\n",
        "y = df.iloc[:,-1].to_numpy()"
      ],
      "metadata": {
        "id": "62DuTrM7fbFb"
      },
      "execution_count": 3,
      "outputs": []
    },
    {
      "cell_type": "code",
      "source": [
        "x.shape"
      ],
      "metadata": {
        "colab": {
          "base_uri": "https://localhost:8080/"
        },
        "id": "nfLOkBLkfbDs",
        "outputId": "5c6214e6-f17c-4bc7-f012-7a672c4401f7"
      },
      "execution_count": 4,
      "outputs": [
        {
          "output_type": "execute_result",
          "data": {
            "text/plain": [
              "(300, 2)"
            ]
          },
          "metadata": {},
          "execution_count": 4
        }
      ]
    },
    {
      "cell_type": "code",
      "source": [
        "y.shape"
      ],
      "metadata": {
        "colab": {
          "base_uri": "https://localhost:8080/"
        },
        "id": "qT9BH_LefbBt",
        "outputId": "48636c1c-ebdf-4a1a-821a-af4226b573cd"
      },
      "execution_count": 5,
      "outputs": [
        {
          "output_type": "execute_result",
          "data": {
            "text/plain": [
              "(300,)"
            ]
          },
          "metadata": {},
          "execution_count": 5
        }
      ]
    },
    {
      "cell_type": "code",
      "source": [
        "d = x.shape[1]#number of features(dimensionality)\n",
        "n = np.unique(y).shape[0]#unique classes\n",
        "m = x.shape[0]#number of training examples\n",
        "print(d,n,m)"
      ],
      "metadata": {
        "colab": {
          "base_uri": "https://localhost:8080/"
        },
        "id": "4ui2dgaXfa_s",
        "outputId": "72420c67-377b-434c-c4a4-92012af28fb4"
      },
      "execution_count": 6,
      "outputs": [
        {
          "output_type": "stream",
          "name": "stdout",
          "text": [
            "2 3 300\n"
          ]
        }
      ]
    },
    {
      "cell_type": "code",
      "source": [
        "w = 0.01*np.random.randn(d,n) #initalize with random numbers and not zeros(will se later why)\n",
        "b = np.zeros((1,n))"
      ],
      "metadata": {
        "id": "PWALbx4mfa9K"
      },
      "execution_count": 7,
      "outputs": []
    },
    {
      "cell_type": "markdown",
      "source": [
        "Forward Propogation\n"
      ],
      "metadata": {
        "id": "7wZBq2kbEEkx"
      }
    },
    {
      "cell_type": "code",
      "source": [
        "# Step1\n",
        "z = np.dot(x,w)+b\n",
        "z.shape"
      ],
      "metadata": {
        "colab": {
          "base_uri": "https://localhost:8080/"
        },
        "id": "pvQkxK-Rfa6u",
        "outputId": "bb6e4387-b5c2-4796-b6c4-eebd10231217"
      },
      "execution_count": 8,
      "outputs": [
        {
          "output_type": "execute_result",
          "data": {
            "text/plain": [
              "(300, 3)"
            ]
          },
          "metadata": {},
          "execution_count": 8
        }
      ]
    },
    {
      "cell_type": "code",
      "source": [
        "#Step2\n",
        "exp_z= np.exp(z)\n",
        "probs = exp_z/np.sum(exp_z,axis=1,keepdims=True)\n",
        "probs.shape\n",
        "np.sum(exp_z,axis=1).shape\n",
        "probs.shape"
      ],
      "metadata": {
        "colab": {
          "base_uri": "https://localhost:8080/"
        },
        "id": "fIw0fdowErMI",
        "outputId": "9a5e3037-163d-4519-cd4c-fe0435e57ee7"
      },
      "execution_count": 9,
      "outputs": [
        {
          "output_type": "execute_result",
          "data": {
            "text/plain": [
              "(300, 3)"
            ]
          },
          "metadata": {},
          "execution_count": 9
        }
      ]
    },
    {
      "cell_type": "code",
      "source": [
        "def loss(y,probs):\n",
        "    m = y.shape[0]\n",
        "    error = -np.log(probs[range(m),y]) #prob of true class\n",
        "    return np.sum(error)/m\n",
        "#probs[range(m),y]->probs[[1,2,3,4,5.....i....m-1],[y1,y2,y3,....yi,....ym-1]] where y's are either 0/1/2(advanced indexing)"
      ],
      "metadata": {
        "id": "hx83F8nYFGKk"
      },
      "execution_count": 10,
      "outputs": []
    },
    {
      "cell_type": "code",
      "source": [
        "loss(y,probs)"
      ],
      "metadata": {
        "colab": {
          "base_uri": "https://localhost:8080/"
        },
        "id": "ol8A25lxWTjs",
        "outputId": "b84dc873-710c-4cf0-c5cb-8fa5463cb22e"
      },
      "execution_count": 11,
      "outputs": [
        {
          "output_type": "execute_result",
          "data": {
            "text/plain": [
              "1.1002726096791307"
            ]
          },
          "metadata": {},
          "execution_count": 11
        }
      ]
    },
    {
      "cell_type": "code",
      "source": [
        "probs[range(m),y].shape #this element in each row corresponding to y(similar to looping on all rows)"
      ],
      "metadata": {
        "colab": {
          "base_uri": "https://localhost:8080/"
        },
        "id": "zpegY6unZTEI",
        "outputId": "ad346753-c455-42b9-d7ea-c6e75a7fc84e"
      },
      "execution_count": 12,
      "outputs": [
        {
          "output_type": "execute_result",
          "data": {
            "text/plain": [
              "(300,)"
            ]
          },
          "metadata": {},
          "execution_count": 12
        }
      ]
    },
    {
      "cell_type": "code",
      "source": [
        "probs[:,y].shape #this will select column for each value y"
      ],
      "metadata": {
        "colab": {
          "base_uri": "https://localhost:8080/"
        },
        "id": "R-HeG-JeYxol",
        "outputId": "2af99ebc-0bd7-4590-97fe-6903196074ba"
      },
      "execution_count": 13,
      "outputs": [
        {
          "output_type": "execute_result",
          "data": {
            "text/plain": [
              "(300, 300)"
            ]
          },
          "metadata": {},
          "execution_count": 13
        }
      ]
    },
    {
      "cell_type": "markdown",
      "source": [
        "**bACKPropagatioN**"
      ],
      "metadata": {
        "id": "s4ji8bExs0Y6"
      }
    },
    {
      "cell_type": "code",
      "source": [
        "#dw = dz.x = x.T * dz\n",
        "dz = probs\n",
        "dz[range(m),y] -= 1 #subtracting 1 only for the probs corresopnding to the true class(have to do this because of absence of one hot encoding)"
      ],
      "metadata": {
        "id": "9ILGmU0ka0eA"
      },
      "execution_count": 14,
      "outputs": []
    },
    {
      "cell_type": "code",
      "source": [
        "dw = np.dot(x.T,dz)#/m\n",
        "#Note: Since we are doing averaging to find it would be better to average out the  dw values (m is just the scaling constant here )\n",
        "dw.shape"
      ],
      "metadata": {
        "colab": {
          "base_uri": "https://localhost:8080/"
        },
        "id": "2QbzNUscubb8",
        "outputId": "1663fef0-a8d5-42ed-f56e-4679f71f00f5"
      },
      "execution_count": 15,
      "outputs": [
        {
          "output_type": "execute_result",
          "data": {
            "text/plain": [
              "(2, 3)"
            ]
          },
          "metadata": {},
          "execution_count": 15
        }
      ]
    },
    {
      "cell_type": "code",
      "source": [
        "db = np.sum(dz,axis=0,keepdims=True)\n",
        "db.shape"
      ],
      "metadata": {
        "colab": {
          "base_uri": "https://localhost:8080/"
        },
        "id": "XyNgpdB_vdwH",
        "outputId": "fe4fc176-6ba7-4a93-8115-d330d5313fc6"
      },
      "execution_count": 16,
      "outputs": [
        {
          "output_type": "execute_result",
          "data": {
            "text/plain": [
              "(1, 3)"
            ]
          },
          "metadata": {},
          "execution_count": 16
        }
      ]
    },
    {
      "cell_type": "code",
      "source": [
        "def backprop(probs,y):\n",
        "    dz = probs\n",
        "    dz[range(m),y] -= 1\n",
        "    dz = dz/m\n",
        "    dw = np.dot(x.T,dz)\n",
        "    db = np.sum(dz,axis=0,keepdims=True)\n",
        "    return dw,db"
      ],
      "metadata": {
        "id": "rrQk5jjLwD54"
      },
      "execution_count": 17,
      "outputs": []
    },
    {
      "cell_type": "code",
      "source": [
        "# updating w and b using GD\n",
        "lr=0.1\n",
        "w = w-lr*dw\n",
        "b = b-lr*db"
      ],
      "metadata": {
        "id": "7xhufgjYxDzD"
      },
      "execution_count": 18,
      "outputs": []
    },
    {
      "cell_type": "markdown",
      "source": [
        "Full code at one place"
      ],
      "metadata": {
        "id": "PjR5fOUezOwZ"
      }
    },
    {
      "cell_type": "code",
      "source": [
        "max_iterations = 500\n",
        "lr = 0.01\n",
        "#number of features\n",
        "d =x.shape[1]\n",
        "#number of neurons\n",
        "n = np.unique(y).shape[0]\n",
        "#number of data rows\n",
        "m=x.shape[0]\n",
        "#initializing w and b\n",
        "w = 0.01*np.random.randn(d,n)\n",
        "b = np.zeros((1,n))\n",
        "loss_history = []\n",
        "\n",
        "for i in range(max_iterations):\n",
        "    #find the z values\n",
        "    z = np.dot(x,w) + b\n",
        "    #using softmax classifier to find the probabilities\n",
        "    exp_z = np.exp(z)\n",
        "    probs = exp_z/np.sum(exp_z,axis=1,keepdims=True)\n",
        "    #compute the loss :Aveage cross entropy loss and regularization\n",
        "    error = -np.log(probs[range(m),y])\n",
        "    loss = np.sum(error)/m\n",
        "    loss_history.append(loss)\n",
        "    if i%100==0:\n",
        "        print(f\"loss at iteration {i} is {loss}\")\n",
        "    #compute the gradient on score\n",
        "    dz = probs\n",
        "    dz[range(m),y] -=1\n",
        "    dz=dz/n\n",
        "    dw = np.dot(x.T,dz)\n",
        "    db = np.sum(dz,axis=0,keepdims=True)\n",
        "    #update the parameters\n",
        "    w = w-lr*dw\n",
        "    b = b-lr*db"
      ],
      "metadata": {
        "colab": {
          "base_uri": "https://localhost:8080/"
        },
        "id": "7RS4gvTtxDtM",
        "outputId": "4f2ae3a0-38f7-45f0-fb43-d4ef68a69885"
      },
      "execution_count": 19,
      "outputs": [
        {
          "output_type": "stream",
          "name": "stdout",
          "text": [
            "loss at iteration 0 is 1.0988369803668965\n",
            "loss at iteration 100 is 0.744725685597629\n",
            "loss at iteration 200 is 0.7405322406904974\n",
            "loss at iteration 300 is 0.7402161850362329\n",
            "loss at iteration 400 is 0.7401859907447239\n"
          ]
        }
      ]
    },
    {
      "cell_type": "code",
      "source": [
        "def predict(x):\n",
        "    z = np.dot(x,w)+b\n",
        "    exp_z = np.exp(z)\n",
        "    probs = exp_z/np.sum(exp_z,axis=1,keepdims=True)\n",
        "    return np.argmax(probs,axis=1)\n",
        "print(f\"Training Accuracy{np.sum(predict(x)==y)/m}\")"
      ],
      "metadata": {
        "colab": {
          "base_uri": "https://localhost:8080/"
        },
        "id": "1Rg0ix5Q3vMQ",
        "outputId": "86c4bbd0-299e-4640-e9c4-f3ae78e4e93f"
      },
      "execution_count": 20,
      "outputs": [
        {
          "output_type": "stream",
          "name": "stdout",
          "text": [
            "Training Accuracy0.5266666666666666\n"
          ]
        }
      ]
    },
    {
      "cell_type": "code",
      "source": [
        "#for rest of the codes refer the nodes"
      ],
      "metadata": {
        "id": "cC7Wh_O56Sa4"
      },
      "execution_count": 21,
      "outputs": []
    },
    {
      "cell_type": "markdown",
      "source": [
        "# Lecture **5**"
      ],
      "metadata": {
        "id": "7yKmZfS7I_uM"
      }
    },
    {
      "cell_type": "code",
      "source": [
        "x=df.iloc[:,:-1].to_numpy()\n",
        "y=df.iloc[:,-1].to_numpy()"
      ],
      "metadata": {
        "id": "bpVnwdNSLekc"
      },
      "execution_count": 26,
      "outputs": []
    },
    {
      "cell_type": "code",
      "source": [
        "d = 2\n",
        "n = 3\n",
        "m = x.shape[0]\n",
        "h = 100 # number of neurons in the hidden layer\n",
        "w1 = 0.01*np.random.randn(d,h)\n",
        "b1 = np.zeros((1,h))\n",
        "w2 = 0.01*np.random.randn(h,n)\n",
        "b2 = np.zeros((1,n))"
      ],
      "metadata": {
        "id": "DBXeLkgpI6k3"
      },
      "execution_count": 27,
      "outputs": []
    },
    {
      "cell_type": "code",
      "source": [
        "z1=np.dot(x,w1)+b1\n",
        "A1=np.maximum(0,z1)\n",
        "z2=np.dot(A1,w2)+b2\n",
        "exp_z2=np.exp(z2)\n",
        "A2=exp_z2/np.sum(exp_z2,axis=1,keepdims=True)\n",
        "probs = A2"
      ],
      "metadata": {
        "id": "VKNyEylLK4m9"
      },
      "execution_count": 28,
      "outputs": []
    },
    {
      "cell_type": "markdown",
      "source": [
        "# Backward Propogation"
      ],
      "metadata": {
        "id": "MoMXBs3FMb3s"
      }
    },
    {
      "cell_type": "code",
      "source": [
        "# dz2 = probs-indicator function() but becuase we do not have y as one hot encoded vector we used a trick\n",
        "dz2 = probs\n",
        "dz2[range(m),y] -= 1 # just for the true class subtract 1\n",
        "# now our dz2 is calculated and only find dz2/dw2 which is\n",
        "dw2 = np.dot(A1.T,dz2)\n",
        "db2 = np.sum(dz2,axis=0,keepdims=True)"
      ],
      "metadata": {
        "id": "81FkcKYbLigh"
      },
      "execution_count": 31,
      "outputs": []
    },
    {
      "cell_type": "code",
      "source": [
        "dA1 = np.dot(dz2,w2.T)\n",
        "dz1=dA1\n",
        "dz1[z1<=0]=0\n",
        "dw1 = np.dot(x.T,dz1)/m\n",
        "db1 = np.sum(dz1,axis=0,keepdims=True)/m"
      ],
      "metadata": {
        "id": "X8GZRdf8NYol"
      },
      "execution_count": 33,
      "outputs": []
    },
    {
      "cell_type": "markdown",
      "source": [
        "## Update the weights and biases"
      ],
      "metadata": {
        "id": "-S8rs03WQeLZ"
      }
    },
    {
      "cell_type": "code",
      "source": [
        "lr=1e-0\n",
        "w1 = w1-lr*dw1\n",
        "b1 = b1-lr*db1\n",
        "w2 = w2-lr*dw2\n",
        "b2 = b2-lr*db2\n",
        "#(Add regularization to weights and biases)"
      ],
      "metadata": {
        "id": "gRGMdQBCQckK"
      },
      "execution_count": 35,
      "outputs": []
    },
    {
      "cell_type": "code",
      "source": [
        "#for the complete code refer the notes"
      ],
      "metadata": {
        "id": "zriXq5PMQOtI"
      },
      "execution_count": null,
      "outputs": []
    },
    {
      "cell_type": "markdown",
      "source": [],
      "metadata": {
        "id": "lPY1N4WBSpZJ"
      }
    }
  ]
}